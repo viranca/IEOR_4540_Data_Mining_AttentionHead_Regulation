{
 "cells": [
  {
   "cell_type": "markdown",
   "metadata": {
    "id": "17RXKsBdmGu3"
   },
   "source": [
    "# 6 - Attention is All You Need\n",
    "\n",
    "In this notebook we will be implementing a (slightly modified version) of the Transformer model from the [Attention is All You Need](https://arxiv.org/abs/1706.03762) paper. All images in this notebook will be taken from the Transformer paper. For more information about the Transformer, [see](https://www.mihaileric.com/posts/transformers-attention-in-disguise/) [these](https://jalammar.github.io/illustrated-transformer/) [three](http://nlp.seas.harvard.edu/2018/04/03/attention.html) articles.\n",
    "\n",
    "![](https://github.com/bentrevett/pytorch-seq2seq/blob/master/assets/transformer1.png?raw=1)\n",
    "\n",
    "## Introduction\n",
    "\n",
    "Similar to the Convolutional Sequence-to-Sequence model, the Transformer does not use any recurrence. It also does not use any convolutional layers. Instead the model is entirely made up of linear layers, attention mechanisms and normalization. \n",
    "\n",
    "As of January 2020, Transformers are the dominant architecture in NLP and are used to achieve state-of-the-art results for many tasks and it appears as if they will be for the near future. \n",
    "\n",
    "The most popular Transformer variant is [BERT](https://arxiv.org/abs/1810.04805) (**B**idirectional **E**ncoder **R**epresentations from **T**ransformers) and pre-trained versions of BERT are commonly used to replace the embedding layers - if not more - in NLP models. \n",
    "\n",
    "A common library used when dealing with pre-trained transformers is the [Transformers](https://huggingface.co/transformers/) library, see [here](https://huggingface.co/transformers/pretrained_models.html) for a list of all pre-trained models available.\n",
    "\n",
    "The differences between the implementation in this notebook and the paper are:\n",
    "- we use a learned positional encoding instead of a static one\n",
    "- we use the standard Adam optimizer with a static learning rate instead of one with warm-up and cool-down steps\n",
    "- we do not use label smoothing\n",
    "\n",
    "We make all of these changes as they closely follow BERT's set-up and the majority of Transformer variants use a similar set-up."
   ]
  },
  {
   "cell_type": "markdown",
   "metadata": {
    "id": "LRg6SbqJmGu9"
   },
   "source": [
    "## Preparing the Data\n",
    "\n",
    "As always, let's import all the required modules and set the random seeds for reproducability."
   ]
  },
  {
   "cell_type": "code",
   "execution_count": 664,
   "metadata": {
    "id": "Xd_Bx1UZmGu9",
    "scrolled": true
   },
   "outputs": [],
   "source": [
    "import torch\n",
    "import torch.nn as nn\n",
    "import torch.optim as optim\n",
    "\n",
    "import torchtext\n",
    "from torchtext.legacy.datasets import Multi30k\n",
    "from torchtext.legacy.data import Field, BucketIterator\n",
    "\n",
    "import matplotlib.pyplot as plt\n",
    "import matplotlib.ticker as ticker\n",
    "\n",
    "import spacy\n",
    "import numpy as np\n",
    "\n",
    "import random\n",
    "import math\n",
    "import time\n",
    "\n",
    "from torch import Tensor\n",
    "from matplotlib import pyplot as plt"
   ]
  },
  {
   "cell_type": "code",
   "execution_count": 665,
   "metadata": {
    "id": "quJyJMZ7mGu_",
    "scrolled": true
   },
   "outputs": [],
   "source": [
    "SEED = 1234\n",
    "\n",
    "random.seed(SEED)\n",
    "np.random.seed(SEED)\n",
    "torch.manual_seed(SEED)\n",
    "torch.cuda.manual_seed(SEED)\n",
    "torch.backends.cudnn.deterministic = True"
   ]
  },
  {
   "cell_type": "markdown",
   "metadata": {
    "id": "dtW_21NPmGu_"
   },
   "source": [
    "We'll then create our tokenizers as before."
   ]
  },
  {
   "cell_type": "code",
   "execution_count": 666,
   "metadata": {
    "id": "vuR10rqwmGvA",
    "scrolled": true
   },
   "outputs": [],
   "source": [
    "spacy_de = spacy.load('de_core_news_sm')\n",
    "spacy_en = spacy.load('en_core_web_sm')\n",
    "\n"
   ]
  },
  {
   "cell_type": "code",
   "execution_count": 667,
   "metadata": {
    "id": "oeON6EiamGvB",
    "scrolled": true
   },
   "outputs": [],
   "source": [
    "def tokenize_de(text):\n",
    "    \"\"\"\n",
    "    Tokenizes German text from a string into a list of strings\n",
    "    \"\"\"\n",
    "    return [tok.text for tok in spacy_de.tokenizer(text)]\n",
    "\n",
    "def tokenize_en(text):\n",
    "    \"\"\"\n",
    "    Tokenizes English text from a string into a list of strings\n",
    "    \"\"\"\n",
    "    return [tok.text for tok in spacy_en.tokenizer(text)]"
   ]
  },
  {
   "cell_type": "markdown",
   "metadata": {
    "id": "71RTPHLGmGvC"
   },
   "source": [
    "Our fields are the same as the previous notebook. The model expects data to be fed in with the batch dimension first, so we use `batch_first = True`. "
   ]
  },
  {
   "cell_type": "code",
   "execution_count": 668,
   "metadata": {
    "id": "W9PGWYY9mGvC",
    "outputId": "e2e35a27-eb8a-4a43-cb71-bd26c8bacb56",
    "scrolled": true
   },
   "outputs": [],
   "source": [
    "SRC = Field(tokenize = tokenize_de, \n",
    "            init_token = '<sos>', \n",
    "            eos_token = '<eos>', \n",
    "            lower = True, \n",
    "            batch_first = True)\n",
    "\n",
    "TRG = Field(tokenize = tokenize_en, \n",
    "            init_token = '<sos>', \n",
    "            eos_token = '<eos>', \n",
    "            lower = True, \n",
    "            batch_first = True)"
   ]
  },
  {
   "cell_type": "markdown",
   "metadata": {
    "id": "KznyZIR0mGvE"
   },
   "source": [
    "We then load the Multi30k dataset and build the vocabulary."
   ]
  },
  {
   "cell_type": "code",
   "execution_count": 669,
   "metadata": {
    "id": "Oqlxt7mDmGvE",
    "outputId": "f8650b97-4c52-4827-efab-382dea773438",
    "scrolled": true
   },
   "outputs": [],
   "source": [
    "train_data, valid_data, test_data = Multi30k.splits(exts = ('.de', '.en'), \n",
    "                                                    fields = (SRC, TRG))"
   ]
  },
  {
   "cell_type": "code",
   "execution_count": 670,
   "metadata": {
    "id": "JllDiGt6mGvF",
    "scrolled": true
   },
   "outputs": [],
   "source": [
    "SRC.build_vocab(train_data, min_freq = 2)\n",
    "TRG.build_vocab(train_data, min_freq = 2)"
   ]
  },
  {
   "cell_type": "markdown",
   "metadata": {
    "id": "wLwJQ1psmGvF"
   },
   "source": [
    "Finally, we define the device and the data iterator."
   ]
  },
  {
   "cell_type": "code",
   "execution_count": 671,
   "metadata": {
    "id": "Dg1mj69UmGvF",
    "scrolled": true
   },
   "outputs": [],
   "source": [
    "device = torch.device('cuda' if torch.cuda.is_available() else 'cpu')\n"
   ]
  },
  {
   "cell_type": "code",
   "execution_count": null,
   "metadata": {
    "scrolled": true
   },
   "outputs": [],
   "source": []
  },
  {
   "cell_type": "code",
   "execution_count": 672,
   "metadata": {
    "id": "ZCtTmETEmGvG",
    "outputId": "cbf7f605-edfb-4d16-b295-bc3e57410917",
    "scrolled": true
   },
   "outputs": [],
   "source": [
    "BATCH_SIZE = 128\n",
    "\n",
    "train_iterator, valid_iterator, test_iterator = BucketIterator.splits(\n",
    "    (train_data, valid_data, test_data), \n",
    "     batch_size = BATCH_SIZE,\n",
    "     device = device)\n",
    "\n"
   ]
  },
  {
   "cell_type": "markdown",
   "metadata": {
    "id": "n4DkLpMlmGvG"
   },
   "source": [
    "## Building the Model\n",
    "\n",
    "Next, we'll build the model. Like previous notebooks it is made up of an *encoder* and a *decoder*, with the encoder *encoding* the input/source sentence (in German) into *context vector* and the decoder then *decoding* this context vector to output our output/target sentence (in English). \n",
    "\n",
    "### Encoder\n",
    "\n",
    "Similar to the ConvSeq2Seq model, the Transformer's encoder does not attempt to compress the entire source sentence, $X = (x_1, ... ,x_n)$, into a single context vector, $z$. Instead it produces a sequence of context vectors, $Z = (z_1, ... , z_n)$. So, if our input sequence was 5 tokens long we would have $Z = (z_1, z_2, z_3, z_4, z_5)$. Why do we call this a sequence of context vectors and not a sequence of hidden states? A hidden state at time $t$ in an RNN has only seen tokens $x_t$ and all the tokens before it. However, each context vector here has seen all tokens at all positions within the input sequence.\n",
    "\n",
    "![](https://github.com/bentrevett/pytorch-seq2seq/blob/master/assets/transformer-encoder.png?raw=1)\n",
    "\n",
    "First, the tokens are passed through a standard embedding layer. Next, as the model has no recurrent it has no idea about the order of the tokens within the sequence. We solve this by using a second embedding layer called a *positional embedding layer*. This is a standard embedding layer where the input is not the token itself but the position of the token within the sequence, starting with the first token, the `<sos>` (start of sequence) token, in position 0. The position embedding has a \"vocabulary\" size of 100, which means our model can accept sentences up to 100 tokens long. This can be increased if we want to handle longer sentences.\n",
    "\n",
    "The original Transformer implementation from the Attention is All You Need paper does not learn positional embeddings. Instead it uses a fixed static embedding. Modern Transformer architectures, like BERT, use positional embeddings instead, hence we have decided to use them in these tutorials. Check out [this](http://nlp.seas.harvard.edu/2018/04/03/attention.html#positional-encoding) section to read more about the positional embeddings used in the original Transformer model.\n",
    "\n",
    "Next, the token and positional embeddings are elementwise summed together to get a vector which contains information about the token and also its position with in the sequence. However, before they are summed, the token embeddings are multiplied by a scaling factor which is $\\sqrt{d_{model}}$, where $d_{model}$ is the hidden dimension size, `hid_dim`. This supposedly reduces variance in the embeddings and the model is difficult to train reliably without this scaling factor. Dropout is then applied to the combined embeddings.\n",
    "\n",
    "The combined embeddings are then passed through $N$ *encoder layers* to get $Z$, which is then output and can be used by the decoder.\n",
    "\n",
    "The source mask, `src_mask`, is simply the same shape as the source sentence but has a value of 1 when the token in the source sentence is not a `<pad>` token and 0 when it is a `<pad>` token. This is used in the encoder layers to mask the multi-head attention mechanisms, which are used to calculate and apply attention over the source sentence, so the model does not pay attention to `<pad>` tokens, which contain no useful information."
   ]
  },
  {
   "cell_type": "code",
   "execution_count": 673,
   "metadata": {
    "id": "OHt0vVddmGvH",
    "scrolled": true
   },
   "outputs": [],
   "source": [
    "class Encoder(nn.Module):\n",
    "    def __init__(self, \n",
    "                 input_dim, \n",
    "                 hid_dim, \n",
    "                 n_layers, \n",
    "                 n_heads, \n",
    "                 pf_dim,\n",
    "                 dropout, \n",
    "                 device,\n",
    "                 max_length = 100):\n",
    "        super().__init__()\n",
    "\n",
    "        self.device = device\n",
    "        \n",
    "        self.tok_embedding = nn.Embedding(input_dim, hid_dim)\n",
    "        self.pos_embedding = nn.Embedding(max_length, hid_dim)\n",
    "        \n",
    "        self.layers = nn.ModuleList([EncoderLayer(hid_dim, n_heads, pf_dim, dropout, device, cka_switch = 0), EncoderLayer(hid_dim, n_heads, pf_dim, dropout, device, cka_switch = 0), EncoderLayer(hid_dim, n_heads, pf_dim, dropout, device, cka_switch = 1)])\n",
    "        \n",
    "        self.dropout = nn.Dropout(dropout)\n",
    "        \n",
    "        self.scale = torch.sqrt(torch.FloatTensor([hid_dim])).to(device)\n",
    "        \n",
    "    def forward(self, src, src_mask):\n",
    "        \n",
    "        #src = [batch size, src len]\n",
    "        #src_mask = [batch size, 1, 1, src len]\n",
    "        \n",
    "        batch_size = src.shape[0]\n",
    "        src_len = src.shape[1]\n",
    "        \n",
    "        pos = torch.arange(0, src_len).unsqueeze(0).repeat(batch_size, 1).to(self.device)\n",
    "        \n",
    "        #pos = [batch size, src len]\n",
    "        \n",
    "        src = self.dropout((self.tok_embedding(src) * self.scale) + self.pos_embedding(pos))\n",
    "        \n",
    "        #src = [batch size, src len, hid dim]\n",
    "        \n",
    "        for layer in self.layers:\n",
    "            src = layer(src, src_mask)\n",
    "            \n",
    "        #src = [batch size, src len, hid dim]\n",
    "            \n",
    "        return src"
   ]
  },
  {
   "cell_type": "markdown",
   "metadata": {
    "id": "kk38v_oKmGvH"
   },
   "source": [
    "### Encoder Layer\n",
    "\n",
    "The encoder layers are where all of the \"meat\" of the encoder is contained. We first pass the source sentence and its mask into the *multi-head attention layer*, then perform dropout on it, apply a residual connection and pass it through a [Layer Normalization](https://arxiv.org/abs/1607.06450) layer. We then pass it through a *position-wise feedforward* layer and then, again, apply dropout, a residual connection and then layer normalization to get the output of this layer which is fed into the next layer. The parameters are not shared between layers. \n",
    "\n",
    "The mutli head attention layer is used by the encoder layer to attend to the source sentence, i.e. it is calculating and applying attention over itself instead of another sequence, hence we call it *self attention*.\n",
    "\n",
    "[This](https://mlexplained.com/2018/01/13/weight-normalization-and-layer-normalization-explained-normalization-in-deep-learning-part-2/) article goes into more detail about layer normalization, but the gist is that it normalizes the values of the features, i.e. across the hidden dimension, so each feature has a mean of 0 and a standard deviation of 1. This allows neural networks with a larger number of layers, like the Transformer, to be trained easier."
   ]
  },
  {
   "cell_type": "code",
   "execution_count": 674,
   "metadata": {
    "id": "wCtqoOGOmGvI",
    "scrolled": true
   },
   "outputs": [],
   "source": [
    "class EncoderLayer(nn.Module):\n",
    "    def __init__(self, \n",
    "                 hid_dim, \n",
    "                 n_heads, \n",
    "                 pf_dim,  \n",
    "                 dropout, \n",
    "                 device,\n",
    "                cka_switch):\n",
    "        super().__init__()\n",
    "        self.cka_switch = cka_switch\n",
    "        self.self_attn_layer_norm = nn.LayerNorm(hid_dim)\n",
    "        self.ff_layer_norm = nn.LayerNorm(hid_dim)\n",
    "        self.self_attention = MultiHeadAttentionLayer(hid_dim, n_heads, dropout, device, cka_switch)\n",
    "        self.positionwise_feedforward = PositionwiseFeedforwardLayer(hid_dim, \n",
    "                                                                     pf_dim, \n",
    "                                                                     dropout)\n",
    "        self.dropout = nn.Dropout(dropout)\n",
    "        \n",
    "    def forward(self, src, src_mask):\n",
    "        \n",
    "        #src = [batch size, src len, hid dim]\n",
    "        #src_mask = [batch size, 1, 1, src len] \n",
    "                \n",
    "        #self attention\n",
    "        #print(self.cka_switch)\n",
    "        _src, _ = self.self_attention(src, src, src, src_mask)\n",
    "        \n",
    "        #dropout, residual connection and layer norm\n",
    "        src = self.self_attn_layer_norm(src + self.dropout(_src))\n",
    "        \n",
    "        #src = [batch size, src len, hid dim]\n",
    "        \n",
    "        #positionwise feedforward\n",
    "        _src = self.positionwise_feedforward(src)\n",
    "        \n",
    "        #dropout, residual and layer norm\n",
    "        src = self.ff_layer_norm(src + self.dropout(_src))\n",
    "        \n",
    "        #src = [batch size, src len, hid dim]\n",
    "        \n",
    "        return src"
   ]
  },
  {
   "cell_type": "code",
   "execution_count": null,
   "metadata": {},
   "outputs": [],
   "source": []
  },
  {
   "cell_type": "code",
   "execution_count": null,
   "metadata": {
    "scrolled": true
   },
   "outputs": [],
   "source": []
  },
  {
   "cell_type": "markdown",
   "metadata": {},
   "source": [
    "# Centered Kernel Alignment (CKA)\n",
    "\n",
    "To quantify the inter-head diversity an indicator called Centered Kernel Alignment (CKA) is used.\n"
   ]
  },
  {
   "cell_type": "code",
   "execution_count": 675,
   "metadata": {
    "scrolled": true
   },
   "outputs": [],
   "source": [
    "def linear_kernel(X):\n",
    "    return np.dot(X, X.transpose())\n",
    "\n",
    "\n",
    "def centering(X):\n",
    "    if not np.allclose(X, X.T):\n",
    "        raise ValueError('Input must be a symmetric matrix.')\n",
    "\n",
    "    means = np.mean(X, 0)\n",
    "    means -= np.mean(means) / 2\n",
    "\n",
    "    centered_X = X - means[:, None]\n",
    "    centered_X -= means[None, :]\n",
    "\n",
    "    return centered_X\n",
    "\n",
    "\n",
    "def hsic(X, Y, kernel=linear_kernel):\n",
    "    gram_X = kernel(X)\n",
    "    gram_Y = kernel(Y)\n",
    "\n",
    "    centered_gram_X = centering(gram_X)\n",
    "    centered_gram_Y = centering(gram_Y)\n",
    "\n",
    "    scaled_hsic = np.dot(np.ravel(centered_gram_X), np.ravel(centered_gram_Y))\n",
    "\n",
    "    return scaled_hsic\n",
    "\n",
    "\n",
    "def cka(X, Y, kernel=linear_kernel):\n",
    "    gram_X = kernel(X)\n",
    "    gram_Y = kernel(Y)\n",
    "\n",
    "    centered_gram_X = centering(gram_X)\n",
    "    centered_gram_Y = centering(gram_Y)\n",
    "\n",
    "    scaled_hsic = np.dot(np.ravel(centered_gram_X), np.ravel(centered_gram_Y))\n",
    "\n",
    "    norm_X = np.linalg.norm(centered_gram_X)\n",
    "    norm_Y = np.linalg.norm(centered_gram_Y)\n",
    "\n",
    "    return scaled_hsic / (norm_X * norm_Y)"
   ]
  },
  {
   "cell_type": "markdown",
   "metadata": {
    "id": "SIAnpQ56mGvI"
   },
   "source": [
    "### Mutli Head Attention Layer\n",
    "\n",
    "One of the key, novel concepts introduced by the Transformer paper is the *multi-head attention layer*. \n",
    "\n",
    "![](https://github.com/bentrevett/pytorch-seq2seq/blob/master/assets/transformer-attention.png?raw=1)\n",
    "\n",
    "Attention can be though of as *queries*, *keys* and *values* - where the query is used with the key to get an attention vector (usually the output of a *softmax* operation and has all values between 0 and 1 which sum to 1) which is then used to get a weighted sum of the values.\n",
    "\n",
    "The Transformer uses *scaled dot-product attention*, where the query and key are combined by taking the dot product between them, then applying the softmax operation and scaling by $d_k$ before finally then multiplying by the value. $d_k$ is the *head dimension*, `head_dim`, which we will shortly explain further.\n",
    "\n",
    "$$ \\text{Attention}(Q, K, V) = \\text{Softmax} \\big( \\frac{QK^T}{\\sqrt{d_k}} \\big)V $$ \n",
    "\n",
    "This is similar to standard *dot product attention* but is scaled by $d_k$, which the paper states is used to stop the results of the dot products growing large, causing gradients to become too small.\n",
    "\n",
    "However, the scaled dot-product attention isn't simply applied to the queries, keys and values. Instead of doing a single attention application the queries, keys and values have their `hid_dim` split into $h$ *heads* and the scaled dot-product attention is calculated over all heads in parallel. This means instead of paying attention to one concept per attention application, we pay attention to $h$. We then re-combine the heads into their `hid_dim` shape, thus each `hid_dim` is potentially paying attention to $h$ different concepts.\n",
    "\n",
    "$$ \\text{MultiHead}(Q, K, V) = \\text{Concat}(\\text{head}_1,...,\\text{head}_h)W^O $$\n",
    "\n",
    "$$\\text{head}_i = \\text{Attention}(QW_i^Q, KW_i^K, VW_i^V) $$\n",
    "\n",
    "$W^O$ is the linear layer applied at the end of the multi-head attention layer, `fc`. $W^Q, W^K, W^V$ are the linear layers `fc_q`, `fc_k` and `fc_v`.\n",
    "\n",
    "Walking through the module, first we calculate $QW^Q$, $KW^K$ and $VW^V$ with the linear layers, `fc_q`, `fc_k` and `fc_v`, to give us `Q`, `K` and `V`. Next, we split the `hid_dim` of the query, key and value into `n_heads` using `.view` and correctly permute them so they can be multiplied together. We then calculate the `energy` (the un-normalized attention) by multiplying `Q` and `K` together and scaling it by the square root of `head_dim`, which is calulated as `hid_dim // n_heads`. We then mask the energy so we do not pay attention over any elements of the sequeuence we shouldn't, then apply the softmax and dropout. We then apply the attention to the value heads, `V`, before combining the `n_heads` together. Finally, we multiply this $W^O$, represented by `fc_o`. \n",
    "\n",
    "Note that in our implementation the lengths of the keys and values are always the same, thus when matrix multiplying the output of the softmax, `attention`, with `V` we will always have valid dimension sizes for matrix multiplication. This multiplication is carried out using `torch.matmul` which, when both tensors are >2-dimensional, does a batched matrix multiplication over the last two dimensions of each tensor. This will be a **[query len, key len] x [value len, head dim]** batched matrix multiplication over the batch size and each head which provides the **[batch size, n heads, query len, head dim]** result.\n",
    "\n",
    "One thing that looks strange at first is that dropout is applied directly to the attention. This means that our attention vector will most probably not sum to 1 and we may pay full attention to a token but the attention over that token is set to 0 by dropout. This is never explained, or even mentioned, in the paper however is used by the [official implementation](https://github.com/tensorflow/tensor2tensor/) and every Transformer implementation since, [including BERT](https://github.com/google-research/bert/)."
   ]
  },
  {
   "cell_type": "code",
   "execution_count": 676,
   "metadata": {
    "id": "uyFU5LfOmGvJ",
    "scrolled": true
   },
   "outputs": [],
   "source": [
    "CKA_tracker = []\n",
    "class MultiHeadAttentionLayer(nn.Module):\n",
    "    def __init__(self, hid_dim, n_heads, dropout, device, cka_switch):\n",
    "        super().__init__()\n",
    "        \n",
    "        assert hid_dim % n_heads == 0\n",
    "        self.counter = 0\n",
    "        self.cka_switch = cka_switch\n",
    "        self.hid_dim = hid_dim\n",
    "        self.n_heads = n_heads\n",
    "        self.head_dim = hid_dim // n_heads\n",
    "        \n",
    "        self.fc_q = nn.Linear(hid_dim, hid_dim)\n",
    "        self.fc_k = nn.Linear(hid_dim, hid_dim)\n",
    "        self.fc_v = nn.Linear(hid_dim, hid_dim)\n",
    "        \n",
    "        self.fc_o = nn.Linear(hid_dim, hid_dim)\n",
    "        \n",
    "        self.dropout = nn.Dropout(dropout)\n",
    "        \n",
    "        self.scale = torch.sqrt(torch.FloatTensor([self.head_dim])).to(device)\n",
    "        \n",
    "    def forward(self, query, key, value, mask = None):\n",
    "        \n",
    "        batch_size = query.shape[0]\n",
    "        \n",
    "        #query = [batch size, query len, hid dim]\n",
    "        #key = [batch size, key len, hid dim]\n",
    "        #value = [batch size, value len, hid dim]\n",
    "                \n",
    "        Q = self.fc_q(query)\n",
    "        K = self.fc_k(key)\n",
    "        V = self.fc_v(value)\n",
    "        \n",
    "        #Q = [batch size, query len, hid dim]\n",
    "        #K = [batch size, key len, hid dim]\n",
    "        #V = [batch size, value len, hid dim]\n",
    "                \n",
    "        Q = Q.view(batch_size, -1, self.n_heads, self.head_dim).permute(0, 2, 1, 3)\n",
    "        K = K.view(batch_size, -1, self.n_heads, self.head_dim).permute(0, 2, 1, 3)\n",
    "        V = V.view(batch_size, -1, self.n_heads, self.head_dim).permute(0, 2, 1, 3)\n",
    "        \n",
    "        #Q = [batch size, n heads, query len, head dim]\n",
    "        #K = [batch size, n heads, key len, head dim]\n",
    "        #V = [batch size, n heads, value len, head dim]\n",
    "                \n",
    "        energy = torch.matmul(Q, K.permute(0, 1, 3, 2)) / self.scale\n",
    "        \n",
    "        #energy = [batch size, n heads, query len, key len]\n",
    "        \n",
    "        if mask is not None:\n",
    "            energy = energy.masked_fill(mask == 0, -1e10)\n",
    "        \n",
    "        attention = torch.softmax(energy, dim = -1)\n",
    "                \n",
    "        #attention = [batch size, n heads, query len, key len]\n",
    "        \n",
    "        \n",
    "        \n",
    "        #### THIS IS THE ATTENTION MATRIX ####\n",
    "        x = torch.matmul(self.dropout(attention), V)\n",
    "        #self.counter += 1\n",
    "        #print(f\"counter ##################{self.counter}######################\")\n",
    "        #print(f\"[batch size, n heads, query len, head dim]\")\n",
    "        #print(f\"x after matmul{x.shape}\")\n",
    "        #x = [batch size, n heads, query len, head dim]\n",
    "        \n",
    "        \n",
    "        x = x.permute(0, 2, 1, 3).contiguous()\n",
    "        #print(f\"[batch size, query len, n heads, head dim]\")\n",
    "        #print(f\"x after permute{x.shape}\")      \n",
    "        #x = [batch size, query len, n heads, head dim]\n",
    "        \n",
    "        #add CKA computation here\n",
    "        if self.cka_switch != 0:\n",
    "            head_matrices = np.split(x, self.n_heads , axis = 2)   \n",
    "            cka_heads = []\n",
    "            for i in range(len(head_matrices)):\n",
    "                for j in range(len(head_matrices)):\n",
    "                    if i != j and i < j:\n",
    "                        array_x = np.array(head_matrices[i].detach().numpy())\n",
    "                        array_x = np.squeeze(array_x, axis = 2)\n",
    "                        array_y = np.array(head_matrices[j].detach().numpy())\n",
    "                        array_y = np.squeeze(array_y, axis = 2)\n",
    "                        array_x = array_x.reshape((array_x.shape[0]*array_x.shape[1],array_x.shape[2]))\n",
    "                        array_y = array_y.reshape((array_y.shape[0]*array_y.shape[1],array_y.shape[2]))\n",
    "                        cka_heads.append(cka(array_x, array_y, kernel=linear_kernel))\n",
    "            CKA_tracker.append(np.mean(cka_heads))\n",
    "        \n",
    "        \n",
    "        ###heads are combined here:\n",
    "        x = x.view(batch_size, -1, self.hid_dim)\n",
    "        \n",
    "        #x = [batch size, query len, hid dim]\n",
    "        x = self.fc_o(x)\n",
    "        #print(f\"[batch size, query len, hid dim]\")\n",
    "        #print(f\"x final{x.shape}\")\n",
    "        #x = [batch size, query len, hid dim]\n",
    "        return x, attention"
   ]
  },
  {
   "cell_type": "code",
   "execution_count": null,
   "metadata": {},
   "outputs": [],
   "source": []
  },
  {
   "cell_type": "code",
   "execution_count": 677,
   "metadata": {
    "scrolled": true
   },
   "outputs": [
    {
     "data": {
      "text/plain": [
       "'\\n[[[[  0   1   2   3   4]\\n   [  5   6   7   8   9]\\n   [ 10  11  12  13  14]\\n   [ 15  16  17  18  19]]\\n\\n  [[ 20  21  22  23  24]\\n   [ 25  26  27  28  29]\\n   [ 30  31  32  33  34]\\n   [ 35  36  37  38  39]]\\n\\n  [[ 40  41  42  43  44]\\n   [ 45  46  47  48  49]\\n   [ 50  51  52  53  54]\\n   [ 55  56  57  58  59]]]\\n\\n\\n [[[ 60  61  62  63  64]\\n   [ 65  66  67  68  69]\\n   [ 70  71  72  73  74]\\n   [ 75  76  77  78  79]]\\n\\n  [[ 80  81  82  83  84]\\n   [ 85  86  87  88  89]\\n   [ 90  91  92  93  94]\\n   [ 95  96  97  98  99]]\\n\\n  [[100 101 102 103 104]\\n   [105 106 107 108 109]\\n   [110 111 112 113 114]\\n   [115 116 117 118 119]]]]\\n   \\n'"
      ]
     },
     "execution_count": 677,
     "metadata": {},
     "output_type": "execute_result"
    }
   ],
   "source": [
    "#mport numpy as np\n",
    "# The matrix we have:\n",
    "## [batch size, query len, n heads, head dim]\n",
    "## [128, 23, 2, 128]\n",
    "#arr4d_org = np.arange(753664).reshape(128, 23, 2, 128)\n",
    "\n",
    "\n",
    "# A test matrix of the same shape to help figure out the right split:\n",
    "## [batch size, query len, n heads, head dim]\n",
    "## [2, 3, 4, 5]\n",
    "#arr4d_test = np.arange(120).reshape(2, 3, 4, 5)\n",
    "\n",
    "\"\"\"\n",
    "[[[[  0   1   2   3   4]\n",
    "   [  5   6   7   8   9]\n",
    "   [ 10  11  12  13  14]\n",
    "   [ 15  16  17  18  19]]\n",
    "\n",
    "  [[ 20  21  22  23  24]\n",
    "   [ 25  26  27  28  29]\n",
    "   [ 30  31  32  33  34]\n",
    "   [ 35  36  37  38  39]]\n",
    "\n",
    "  [[ 40  41  42  43  44]\n",
    "   [ 45  46  47  48  49]\n",
    "   [ 50  51  52  53  54]\n",
    "   [ 55  56  57  58  59]]]\n",
    "\n",
    "\n",
    " [[[ 60  61  62  63  64]\n",
    "   [ 65  66  67  68  69]\n",
    "   [ 70  71  72  73  74]\n",
    "   [ 75  76  77  78  79]]\n",
    "\n",
    "  [[ 80  81  82  83  84]\n",
    "   [ 85  86  87  88  89]\n",
    "   [ 90  91  92  93  94]\n",
    "   [ 95  96  97  98  99]]\n",
    "\n",
    "  [[100 101 102 103 104]\n",
    "   [105 106 107 108 109]\n",
    "   [110 111 112 113 114]\n",
    "   [115 116 117 118 119]]]]\n",
    "   \n",
    "\"\"\"\n",
    "# The test matrix split to get what we want: a matrix per head\n",
    "#head_matrices = np.split(arr4d_test, arr4d_test.shape[2], axis = 2)\n",
    "#head_matrices = np.split(arr4d_org, arr4d_org.shape[2], axis = 2)\n",
    "\n",
    "\n",
    "\n",
    "#cka_torch(X, Y, kernel=linear_kernel_torch)\n",
    "#print(np.dtype(head_matrices))\n",
    "\n",
    "\n",
    "# array_x = np.array(head_matrices[0])\n",
    "# array_y = np.array(head_matrices[1])\n",
    "# array_x = np.squeeze(array_x, axis = 2)\n",
    "# array_y = np.squeeze(array_y, axis = 2)\n",
    "# array_x = array_x.reshape((array_x.shape[0]*array_x.shape[1],array_x.shape[2]))\n",
    "# array_y = array_y.reshape((array_y.shape[0]*array_y.shape[1],array_y.shape[2]))\n",
    "\n",
    "\n",
    "\n",
    "# for i in range(len(head_matrices)):\n",
    "#     for j in range(len(head_matrices)):\n",
    "#         if i != j:\n",
    "#             array_x = np.array(head_matrices[i])\n",
    "#             array_x = np.squeeze(array_x, axis = 2)\n",
    "#             array_y = np.array(head_matrices[j])\n",
    "#             array_y = np.squeeze(array_y, axis = 2)\n",
    "#             array_x = array_x.reshape((array_x.shape[0]*array_x.shape[1],array_x.shape[2]))\n",
    "#             array_y = array_y.reshape((array_y.shape[0]*array_y.shape[1],array_y.shape[2]))\n",
    "#             print(cka(array_x, array_y, kernel=linear_kernel))\n"
   ]
  },
  {
   "cell_type": "code",
   "execution_count": null,
   "metadata": {},
   "outputs": [],
   "source": []
  },
  {
   "cell_type": "markdown",
   "metadata": {
    "id": "R9MBbfqomGvJ"
   },
   "source": [
    "### Position-wise Feedforward Layer\n",
    "\n",
    "The other main block inside the encoder layer is the *position-wise feedforward layer* This is relatively simple compared to the multi-head attention layer. The input is transformed from `hid_dim` to `pf_dim`, where `pf_dim` is usually a lot larger than `hid_dim`. The original Transformer used a `hid_dim` of 512 and a `pf_dim` of 2048. The ReLU activation function and dropout are applied before it is transformed back into a `hid_dim` representation. \n",
    "\n",
    "Why is this used? Unfortunately, it is never explained in the paper.\n",
    "\n",
    "BERT uses the [GELU](https://arxiv.org/abs/1606.08415) activation function, which can be used by simply switching `torch.relu` for `F.gelu`. Why did they use GELU? Again, it is never explained."
   ]
  },
  {
   "cell_type": "code",
   "execution_count": 678,
   "metadata": {
    "id": "RiY7iH08mGvK",
    "scrolled": true
   },
   "outputs": [],
   "source": [
    "class PositionwiseFeedforwardLayer(nn.Module):\n",
    "    def __init__(self, hid_dim, pf_dim, dropout):\n",
    "        super().__init__()\n",
    "        \n",
    "        self.fc_1 = nn.Linear(hid_dim, pf_dim)\n",
    "        self.fc_2 = nn.Linear(pf_dim, hid_dim)\n",
    "        \n",
    "        self.dropout = nn.Dropout(dropout)\n",
    "        \n",
    "    def forward(self, x):\n",
    "        \n",
    "        #x = [batch size, seq len, hid dim]\n",
    "        \n",
    "        x = self.dropout(torch.relu(self.fc_1(x)))\n",
    "        \n",
    "        #x = [batch size, seq len, pf dim]\n",
    "        \n",
    "        x = self.fc_2(x)\n",
    "        \n",
    "        #x = [batch size, seq len, hid dim]\n",
    "        \n",
    "        return x"
   ]
  },
  {
   "cell_type": "markdown",
   "metadata": {
    "id": "akXKEiZwmGvK"
   },
   "source": [
    "### Decoder\n",
    "\n",
    "The objective of the decoder is to take the encoded representation of the source sentence, $Z$, and convert it into predicted tokens in the target sentence, $\\hat{Y}$. We then compare $\\hat{Y}$ with the actual tokens in the target sentence, $Y$, to calculate our loss, which will be used to calculate the gradients of our parameters and then use our optimizer to update our weights in order to improve our predictions. \n",
    "\n",
    "![](https://github.com/bentrevett/pytorch-seq2seq/blob/master/assets/transformer-decoder.png?raw=1)\n",
    "\n",
    "The decoder is similar to encoder, however it now has two multi-head attention layers. A *masked multi-head attention layer* over the target sequence, and a multi-head attention layer which uses the decoder representation as the query and the encoder representation as the key and value.\n",
    "\n",
    "The decoder uses positional embeddings and combines - via an elementwise sum - them with the scaled embedded target tokens, followed by dropout. Again, our positional encodings have a \"vocabulary\" of 100, which means they can accept sequences up to 100 tokens long. This can be increased if desired.\n",
    "\n",
    "The combined embeddings are then passed through the $N$ decoder layers, along with the encoded source, `enc_src`, and the source and target masks. Note that the number of layers in the encoder does not have to be equal to the number of layers in the decoder, even though they are both denoted by $N$.\n",
    "\n",
    "The decoder representation after the $N^{th}$ layer is then passed through a linear layer, `fc_out`. In PyTorch, the softmax operation is contained within our loss function, so we do not explicitly need to use a softmax layer here.\n",
    "\n",
    "As well as using the source mask, as we did in the encoder to prevent our model attending to `<pad>` tokens, we also use a target mask. This will be explained further in the `Seq2Seq` model which encapsulates both the encoder and decoder, but the gist of it is that it performs a similar operation as the decoder padding in the convolutional sequence-to-sequence model. As we are processing all of the target tokens at once in parallel we need a method of stopping the decoder from \"cheating\" by simply \"looking\" at what the next token in the target sequence is and outputting it. \n",
    "\n",
    "Our decoder layer also outputs the normalized attention values so we can later plot them to see what our model is actually paying attention to."
   ]
  },
  {
   "cell_type": "code",
   "execution_count": 679,
   "metadata": {
    "id": "vIWfdT5omGvK",
    "scrolled": true
   },
   "outputs": [],
   "source": [
    "class Decoder(nn.Module):\n",
    "    def __init__(self, \n",
    "                 output_dim, \n",
    "                 hid_dim, \n",
    "                 n_layers, \n",
    "                 n_heads, \n",
    "                 pf_dim, \n",
    "                 dropout, \n",
    "                 device,\n",
    "                 max_length = 100):\n",
    "        super().__init__()\n",
    "        \n",
    "        self.device = device\n",
    "        \n",
    "        self.tok_embedding = nn.Embedding(output_dim, hid_dim)\n",
    "        self.pos_embedding = nn.Embedding(max_length, hid_dim)\n",
    "        self.layers = nn.ModuleList([DecoderLayer(hid_dim, n_heads, pf_dim, dropout, device, cka_switch = 0), DecoderLayer(hid_dim, n_heads, pf_dim, dropout, device, cka_switch = 0), DecoderLayer(hid_dim, n_heads, pf_dim, dropout, device, cka_switch = 1)])\n",
    "        \n",
    "        self.fc_out = nn.Linear(hid_dim, output_dim)\n",
    "        \n",
    "        self.dropout = nn.Dropout(dropout)\n",
    "        \n",
    "        self.scale = torch.sqrt(torch.FloatTensor([hid_dim])).to(device)\n",
    "        \n",
    "    def forward(self, trg, enc_src, trg_mask, src_mask):\n",
    "        \n",
    "        #trg = [batch size, trg len]\n",
    "        #enc_src = [batch size, src len, hid dim]\n",
    "        #trg_mask = [batch size, 1, trg len, trg len]\n",
    "        #src_mask = [batch size, 1, 1, src len]\n",
    "                \n",
    "        batch_size = trg.shape[0]\n",
    "        trg_len = trg.shape[1]\n",
    "        \n",
    "        pos = torch.arange(0, trg_len).unsqueeze(0).repeat(batch_size, 1).to(self.device)\n",
    "                            \n",
    "        #pos = [batch size, trg len]\n",
    "            \n",
    "        trg = self.dropout((self.tok_embedding(trg) * self.scale) + self.pos_embedding(pos))\n",
    "                \n",
    "        #trg = [batch size, trg len, hid dim]\n",
    "        \n",
    "        for layer in self.layers:\n",
    "            trg, attention = layer(trg, enc_src, trg_mask, src_mask)\n",
    "        \n",
    "        #trg = [batch size, trg len, hid dim]\n",
    "        #attention = [batch size, n heads, trg len, src len]\n",
    "        \n",
    "        output = self.fc_out(trg)\n",
    "        \n",
    "        #output = [batch size, trg len, output dim]\n",
    "            \n",
    "        return output, attention"
   ]
  },
  {
   "cell_type": "markdown",
   "metadata": {
    "id": "jaf5IAt1mGvK"
   },
   "source": [
    "### Decoder Layer\n",
    "\n",
    "As mentioned previously, the decoder layer is similar to the encoder layer except that it now has two multi-head attention layers, `self_attention` and `encoder_attention`. \n",
    "\n",
    "The first performs self-attention, as in the encoder, by using the decoder representation so far as the query, key and value. This is followed by dropout, residual connection and layer normalization. This `self_attention` layer uses the target sequence mask, `trg_mask`, in order to prevent the decoder from \"cheating\" by paying attention to tokens that are \"ahead\" of the one it is currently processing as it processes all tokens in the target sentence in parallel.\n",
    "\n",
    "The second is how we actually feed the encoded source sentence, `enc_src`, into our decoder. In this multi-head attention layer the queries are the decoder representations and the keys and values are the encoder representations. Here, the source mask, `src_mask` is used to prevent the multi-head attention layer from attending to `<pad>` tokens within the source sentence. This is then followed by the dropout, residual connection and layer normalization layers. \n",
    "\n",
    "Finally, we pass this through the position-wise feedforward layer and yet another sequence of dropout, residual connection and layer normalization.\n",
    "\n",
    "The decoder layer isn't introducing any new concepts, just using the same set of layers as the encoder in a slightly different way."
   ]
  },
  {
   "cell_type": "code",
   "execution_count": 680,
   "metadata": {
    "id": "8V5rXVAymGvL",
    "scrolled": true
   },
   "outputs": [],
   "source": [
    "class DecoderLayer(nn.Module):\n",
    "    def __init__(self, \n",
    "                 hid_dim, \n",
    "                 n_heads, \n",
    "                 pf_dim, \n",
    "                 dropout, \n",
    "                 device,\n",
    "                cka_switch):\n",
    "        super().__init__()\n",
    "        \n",
    "        self.cka_switch = cka_switch\n",
    "        self.self_attn_layer_norm = nn.LayerNorm(hid_dim)\n",
    "        self.enc_attn_layer_norm = nn.LayerNorm(hid_dim)\n",
    "        self.ff_layer_norm = nn.LayerNorm(hid_dim)\n",
    "        self.self_attention = MultiHeadAttentionLayer(hid_dim, n_heads, dropout, device, cka_switch)\n",
    "        self.encoder_attention = MultiHeadAttentionLayer(hid_dim, n_heads, dropout, device, cka_switch)\n",
    "        self.positionwise_feedforward = PositionwiseFeedforwardLayer(hid_dim, \n",
    "                                                                     pf_dim, \n",
    "                                                                     dropout)\n",
    "        self.dropout = nn.Dropout(dropout)\n",
    "        \n",
    "    def forward(self, trg, enc_src, trg_mask, src_mask):\n",
    "        \n",
    "        #trg = [batch size, trg len, hid dim]\n",
    "        #enc_src = [batch size, src len, hid dim]\n",
    "        #trg_mask = [batch size, 1, trg len, trg len]\n",
    "        #src_mask = [batch size, 1, 1, src len]\n",
    "        \n",
    "        #self attention\n",
    "        #print(self.cka_switch)\n",
    "        _trg, _ = self.self_attention(trg, trg, trg, trg_mask)\n",
    "        \n",
    "        #dropout, residual connection and layer norm\n",
    "        trg = self.self_attn_layer_norm(trg + self.dropout(_trg))\n",
    "            \n",
    "        #trg = [batch size, trg len, hid dim]\n",
    "            \n",
    "        #encoder attention\n",
    "        #print(self.cka_switch)\n",
    "        _trg, attention = self.encoder_attention(trg, enc_src, enc_src, src_mask)\n",
    "        \n",
    "        #dropout, residual connection and layer norm\n",
    "        trg = self.enc_attn_layer_norm(trg + self.dropout(_trg))\n",
    "                    \n",
    "        #trg = [batch size, trg len, hid dim]\n",
    "        \n",
    "        #positionwise feedforward\n",
    "        _trg = self.positionwise_feedforward(trg)\n",
    "        \n",
    "        #dropout, residual and layer norm\n",
    "        trg = self.ff_layer_norm(trg + self.dropout(_trg))\n",
    "        \n",
    "        #trg = [batch size, trg len, hid dim]\n",
    "        #attention = [batch size, n heads, trg len, src len]\n",
    "        \n",
    "        return trg, attention"
   ]
  },
  {
   "cell_type": "markdown",
   "metadata": {
    "id": "aGm3nenfmGvL"
   },
   "source": [
    "### Seq2Seq\n",
    "\n",
    "Finally, we have the `Seq2Seq` module which encapsulates the encoder and decoder, as well as handling the creation of the masks.\n",
    "\n",
    "The source mask is created by checking where the source sequence is not equal to a `<pad>` token. It is 1 where the token is not a `<pad>` token and 0 when it is. It is then unsqueezed so it can be correctly broadcast when applying the mask to the `energy`, which of shape **_[batch size, n heads, seq len, seq len]_**.\n",
    "\n",
    "The target mask is slightly more complicated. First, we create a mask for the `<pad>` tokens, as we did for the source mask. Next, we create a \"subsequent\" mask, `trg_sub_mask`, using `torch.tril`. This creates a diagonal matrix where the elements above the diagonal will be zero and the elements below the diagonal will be set to whatever the input tensor is. In this case, the input tensor will be a tensor filled with ones. So this means our `trg_sub_mask` will look something like this (for a target with 5 tokens):\n",
    "\n",
    "$$\\begin{matrix}\n",
    "1 & 0 & 0 & 0 & 0\\\\\n",
    "1 & 1 & 0 & 0 & 0\\\\\n",
    "1 & 1 & 1 & 0 & 0\\\\\n",
    "1 & 1 & 1 & 1 & 0\\\\\n",
    "1 & 1 & 1 & 1 & 1\\\\\n",
    "\\end{matrix}$$\n",
    "\n",
    "This shows what each target token (row) is allowed to look at (column). The first target token has a mask of **_[1, 0, 0, 0, 0]_** which means it can only look at the first target token. The second target token has a mask of **_[1, 1, 0, 0, 0]_** which it means it can look at both the first and second target tokens. \n",
    "\n",
    "The \"subsequent\" mask is then logically anded with the padding mask, this combines the two masks ensuring both the subsequent tokens and the padding tokens cannot be attended to. For example if the last two tokens were `<pad>` tokens the mask would look like:\n",
    "\n",
    "$$\\begin{matrix}\n",
    "1 & 0 & 0 & 0 & 0\\\\\n",
    "1 & 1 & 0 & 0 & 0\\\\\n",
    "1 & 1 & 1 & 0 & 0\\\\\n",
    "1 & 1 & 1 & 0 & 0\\\\\n",
    "1 & 1 & 1 & 0 & 0\\\\\n",
    "\\end{matrix}$$\n",
    "\n",
    "After the masks are created, they used with the encoder and decoder along with the source and target sentences to get our predicted target sentence, `output`, along with the decoder's attention over the source sequence."
   ]
  },
  {
   "cell_type": "code",
   "execution_count": 681,
   "metadata": {
    "id": "FHdHKYMzmGvL",
    "scrolled": true
   },
   "outputs": [],
   "source": [
    "class Seq2Seq(nn.Module):\n",
    "    def __init__(self, \n",
    "                 encoder, \n",
    "                 decoder, \n",
    "                 src_pad_idx, \n",
    "                 trg_pad_idx, \n",
    "                 device):\n",
    "        super().__init__()\n",
    "        \n",
    "        self.encoder = encoder\n",
    "        self.decoder = decoder\n",
    "        self.src_pad_idx = src_pad_idx\n",
    "        self.trg_pad_idx = trg_pad_idx\n",
    "        self.device = device\n",
    "        \n",
    "    def make_src_mask(self, src):\n",
    "        \n",
    "        #src = [batch size, src len]\n",
    "        \n",
    "        src_mask = (src != self.src_pad_idx).unsqueeze(1).unsqueeze(2)\n",
    "\n",
    "        #src_mask = [batch size, 1, 1, src len]\n",
    "\n",
    "        return src_mask\n",
    "    \n",
    "    def make_trg_mask(self, trg):\n",
    "        \n",
    "        #trg = [batch size, trg len]\n",
    "        \n",
    "        trg_pad_mask = (trg != self.trg_pad_idx).unsqueeze(1).unsqueeze(2)\n",
    "        \n",
    "        #trg_pad_mask = [batch size, 1, 1, trg len]\n",
    "        \n",
    "        trg_len = trg.shape[1]\n",
    "        \n",
    "        trg_sub_mask = torch.tril(torch.ones((trg_len, trg_len), device = self.device)).bool()\n",
    "        \n",
    "        #trg_sub_mask = [trg len, trg len]\n",
    "            \n",
    "        trg_mask = trg_pad_mask & trg_sub_mask\n",
    "        \n",
    "        #trg_mask = [batch size, 1, trg len, trg len]\n",
    "        \n",
    "        return trg_mask\n",
    "\n",
    "    def forward(self, src, trg):\n",
    "        \n",
    "        #src = [batch size, src len]\n",
    "        #trg = [batch size, trg len]\n",
    "                \n",
    "        src_mask = self.make_src_mask(src)\n",
    "        trg_mask = self.make_trg_mask(trg)\n",
    "        \n",
    "        #src_mask = [batch size, 1, 1, src len]\n",
    "        #trg_mask = [batch size, 1, trg len, trg len]\n",
    "        \n",
    "        enc_src = self.encoder(src, src_mask)\n",
    "        \n",
    "        #enc_src = [batch size, src len, hid dim]\n",
    "                \n",
    "        output, attention = self.decoder(trg, enc_src, trg_mask, src_mask)\n",
    "        \n",
    "        #output = [batch size, trg len, output dim]\n",
    "        #attention = [batch size, n heads, trg len, src len]\n",
    "        \n",
    "        return output, attention"
   ]
  },
  {
   "cell_type": "markdown",
   "metadata": {
    "id": "GlJ_IxmwmGvM"
   },
   "source": [
    "## Training the Seq2Seq Model\n",
    "\n",
    "We can now define our encoder and decoders. This model is significantly smaller than Transformers used in research today, but is able to be run on a single GPU quickly."
   ]
  },
  {
   "cell_type": "code",
   "execution_count": 682,
   "metadata": {
    "id": "ys6IfZ5ZmGvM",
    "scrolled": true
   },
   "outputs": [],
   "source": [
    "INPUT_DIM = len(SRC.vocab)\n",
    "OUTPUT_DIM = len(TRG.vocab)\n",
    "HID_DIM = 256\n",
    "ENC_LAYERS = 3\n",
    "DEC_LAYERS = 3\n",
    "ENC_HEADS = 4\n",
    "DEC_HEADS = 4\n",
    "ENC_PF_DIM = 512\n",
    "DEC_PF_DIM = 512\n",
    "ENC_DROPOUT = 0.1\n",
    "DEC_DROPOUT = 0.1\n",
    "\n",
    "enc = Encoder(INPUT_DIM, \n",
    "              HID_DIM, \n",
    "              ENC_LAYERS, \n",
    "              ENC_HEADS, \n",
    "              ENC_PF_DIM, \n",
    "              ENC_DROPOUT, \n",
    "              device)\n",
    "\n",
    "dec = Decoder(OUTPUT_DIM, \n",
    "              HID_DIM, \n",
    "              DEC_LAYERS, \n",
    "              DEC_HEADS, \n",
    "              DEC_PF_DIM, \n",
    "              DEC_DROPOUT, \n",
    "              device)"
   ]
  },
  {
   "cell_type": "markdown",
   "metadata": {
    "id": "x1400rbwmGvM"
   },
   "source": [
    "Then, use them to define our whole sequence-to-sequence encapsulating model."
   ]
  },
  {
   "cell_type": "code",
   "execution_count": 683,
   "metadata": {
    "id": "FiN3gBdJmGvM",
    "scrolled": true
   },
   "outputs": [],
   "source": [
    "SRC_PAD_IDX = SRC.vocab.stoi[SRC.pad_token]\n",
    "TRG_PAD_IDX = TRG.vocab.stoi[TRG.pad_token]\n",
    "\n",
    "model = Seq2Seq(enc, dec, SRC_PAD_IDX, TRG_PAD_IDX, device).to(device)"
   ]
  },
  {
   "cell_type": "markdown",
   "metadata": {
    "id": "mWbvJboGmGvM"
   },
   "source": [
    "We can check the number of parameters, noticing it is significantly less than the 37M for the convolutional sequence-to-sequence model."
   ]
  },
  {
   "cell_type": "code",
   "execution_count": 684,
   "metadata": {
    "id": "1gPOi2OamGvM",
    "outputId": "980f81d6-d163-49fc-b163-04e6f6d95c4e",
    "scrolled": true
   },
   "outputs": [
    {
     "name": "stdout",
     "output_type": "stream",
     "text": [
      "The model has 9,038,341 trainable parameters\n"
     ]
    }
   ],
   "source": [
    "def count_parameters(model):\n",
    "    return sum(p.numel() for p in model.parameters() if p.requires_grad)\n",
    "\n",
    "print(f'The model has {count_parameters(model):,} trainable parameters')"
   ]
  },
  {
   "cell_type": "markdown",
   "metadata": {
    "id": "ksUMTrvKmGvN"
   },
   "source": [
    "The paper does not mention which weight initialization scheme was used, however Xavier uniform seems to be common amongst Transformer models, so we use it here."
   ]
  },
  {
   "cell_type": "code",
   "execution_count": 685,
   "metadata": {
    "id": "x5eUmLKomGvN",
    "scrolled": true
   },
   "outputs": [],
   "source": [
    "def initialize_weights(m):\n",
    "    if hasattr(m, 'weight') and m.weight.dim() > 1:\n",
    "        nn.init.xavier_uniform_(m.weight.data)"
   ]
  },
  {
   "cell_type": "code",
   "execution_count": 686,
   "metadata": {
    "id": "Z5VjbR2zmGvN",
    "scrolled": true
   },
   "outputs": [],
   "source": [
    "model.apply(initialize_weights);"
   ]
  },
  {
   "cell_type": "markdown",
   "metadata": {
    "id": "cn65_V8DmGvN"
   },
   "source": [
    "The optimizer used in the original Transformer paper uses Adam with a learning rate that has a \"warm-up\" and then a \"cool-down\" period. BERT and other Transformer models use Adam with a fixed learning rate, so we will implement that. Check [this](http://nlp.seas.harvard.edu/2018/04/03/attention.html#optimizer) link for more details about the original Transformer's learning rate schedule.\n",
    "\n",
    "Note that the learning rate needs to be lower than the default used by Adam or else learning is unstable."
   ]
  },
  {
   "cell_type": "code",
   "execution_count": 687,
   "metadata": {
    "id": "_usdxEkomGvO",
    "scrolled": true
   },
   "outputs": [],
   "source": [
    "LEARNING_RATE = 0.0005\n",
    "\n",
    "optimizer = torch.optim.Adam(model.parameters(), lr = LEARNING_RATE)"
   ]
  },
  {
   "cell_type": "markdown",
   "metadata": {
    "id": "QzZHEZXgmGvO"
   },
   "source": [
    "Next, we define our loss function, making sure to ignore losses calculated over `<pad>` tokens."
   ]
  },
  {
   "cell_type": "code",
   "execution_count": 688,
   "metadata": {
    "id": "sPiANrGnmGvO",
    "scrolled": true
   },
   "outputs": [],
   "source": [
    "criterion = nn.CrossEntropyLoss(ignore_index = TRG_PAD_IDX)"
   ]
  },
  {
   "cell_type": "markdown",
   "metadata": {
    "id": "CXnTpP7HmGvO"
   },
   "source": [
    "Then, we'll define our training loop. This is the exact same as the one used in the previous tutorial.\n",
    "\n",
    "As we want our model to predict the `<eos>` token but not have it be an input into our model we simply slice the `<eos>` token off the end of the sequence. Thus:\n",
    "\n",
    "$$\\begin{align*}\n",
    "\\text{trg} &= [sos, x_1, x_2, x_3, eos]\\\\\n",
    "\\text{trg[:-1]} &= [sos, x_1, x_2, x_3]\n",
    "\\end{align*}$$\n",
    "\n",
    "$x_i$ denotes actual target sequence element. We then feed this into the model to get a predicted sequence that should hopefully predict the `<eos>` token:\n",
    "\n",
    "$$\\begin{align*}\n",
    "\\text{output} &= [y_1, y_2, y_3, eos]\n",
    "\\end{align*}$$\n",
    "\n",
    "$y_i$ denotes predicted target sequence element. We then calculate our loss using the original `trg` tensor with the `<sos>` token sliced off the front, leaving the `<eos>` token:\n",
    "\n",
    "$$\\begin{align*}\n",
    "\\text{output} &= [y_1, y_2, y_3, eos]\\\\\n",
    "\\text{trg[1:]} &= [x_1, x_2, x_3, eos]\n",
    "\\end{align*}$$\n",
    "\n",
    "We then calculate our losses and update our parameters as is standard."
   ]
  },
  {
   "cell_type": "code",
   "execution_count": 689,
   "metadata": {
    "id": "pBWlOfJJmGvO",
    "scrolled": true
   },
   "outputs": [],
   "source": [
    "def train(model, iterator, optimizer, criterion, clip):\n",
    "    \n",
    "    model.train()\n",
    "    \n",
    "    epoch_loss = 0\n",
    "    speeder = 0\n",
    "    for i, batch in enumerate(iterator):\n",
    "        #speeder += 1\n",
    "        #if speeder == 5:\n",
    "        #    return epoch_loss / len(iterator)\n",
    "        \n",
    "        src = batch.src\n",
    "        trg = batch.trg\n",
    "        \n",
    "        optimizer.zero_grad()\n",
    "        \n",
    "        output, _ = model(src, trg[:,:-1])\n",
    "                \n",
    "        #output = [batch size, trg len - 1, output dim]\n",
    "        #trg = [batch size, trg len]\n",
    "            \n",
    "        output_dim = output.shape[-1]\n",
    "            \n",
    "        output = output.contiguous().view(-1, output_dim)\n",
    "        trg = trg[:,1:].contiguous().view(-1)\n",
    "                \n",
    "        #output = [batch size * trg len - 1, output dim]\n",
    "        #trg = [batch size * trg len - 1]\n",
    "        \n",
    "        loss = criterion(output, trg)\n",
    "        \n",
    "        loss.backward()\n",
    "        \n",
    "        torch.nn.utils.clip_grad_norm_(model.parameters(), clip)\n",
    "        \n",
    "        optimizer.step()\n",
    "        \n",
    "        epoch_loss += loss.item()\n",
    "        \n",
    "    return epoch_loss / len(iterator)"
   ]
  },
  {
   "cell_type": "markdown",
   "metadata": {
    "id": "G0wTWCGDmGvP"
   },
   "source": [
    "The evaluation loop is the same as the training loop, just without the gradient calculations and parameter updates."
   ]
  },
  {
   "cell_type": "code",
   "execution_count": 690,
   "metadata": {
    "id": "8DdE3lQ7mGvP",
    "scrolled": true
   },
   "outputs": [],
   "source": [
    "def evaluate(model, iterator, criterion):\n",
    "    \n",
    "    model.eval()\n",
    "    \n",
    "    epoch_loss = 0\n",
    "    \n",
    "    with torch.no_grad():\n",
    "        speeder = 0    \n",
    "        for i, batch in enumerate(iterator):\n",
    "            #speeder += 1\n",
    "            #if speeder == 5:\n",
    "            #    return epoch_loss / len(iterator)\n",
    "            src = batch.src\n",
    "            trg = batch.trg\n",
    "\n",
    "            output, _ = model(src, trg[:,:-1])\n",
    "            \n",
    "            #output = [batch size, trg len - 1, output dim]\n",
    "            #trg = [batch size, trg len]\n",
    "            \n",
    "            output_dim = output.shape[-1]\n",
    "            \n",
    "            output = output.contiguous().view(-1, output_dim)\n",
    "            trg = trg[:,1:].contiguous().view(-1)\n",
    "            \n",
    "            #output = [batch size * trg len - 1, output dim]\n",
    "            #trg = [batch size * trg len - 1]\n",
    "            \n",
    "            loss = criterion(output, trg)\n",
    "\n",
    "            epoch_loss += loss.item()\n",
    "        \n",
    "    return epoch_loss / len(iterator)"
   ]
  },
  {
   "cell_type": "markdown",
   "metadata": {
    "id": "diHbqqtImGvP"
   },
   "source": [
    "We then define a small function that we can use to tell us how long an epoch takes."
   ]
  },
  {
   "cell_type": "code",
   "execution_count": 691,
   "metadata": {
    "id": "bNiZxzklmGvQ",
    "scrolled": true
   },
   "outputs": [],
   "source": [
    "def epoch_time(start_time, end_time):\n",
    "    elapsed_time = end_time - start_time\n",
    "    elapsed_mins = int(elapsed_time / 60)\n",
    "    elapsed_secs = int(elapsed_time - (elapsed_mins * 60))\n",
    "    return elapsed_mins, elapsed_secs"
   ]
  },
  {
   "cell_type": "markdown",
   "metadata": {
    "id": "ytLAjNejmGvQ"
   },
   "source": [
    "Finally, we train our actual model. This model is almost 3x faster than the convolutional sequence-to-sequence model and also achieves a lower validation perplexity!"
   ]
  },
  {
   "cell_type": "code",
   "execution_count": 692,
   "metadata": {
    "id": "75751kIGmGvQ",
    "outputId": "d5b35509-231d-4f01-87cc-35347ff642fc",
    "scrolled": true
   },
   "outputs": [
    {
     "name": "stdout",
     "output_type": "stream",
     "text": [
      "Epoch: 01 | Time: 69m 29s\n",
      "\tTrain Loss: 4.232 | Train PPL:  68.845\n",
      "\t Val. Loss: 2.983 |  Val. PPL:  19.737\n",
      "Epoch: 02 | Time: 74m 41s\n",
      "\tTrain Loss: 2.775 | Train PPL:  16.039\n",
      "\t Val. Loss: 2.272 |  Val. PPL:   9.694\n",
      "Epoch: 03 | Time: 71m 37s\n",
      "\tTrain Loss: 2.214 | Train PPL:   9.154\n",
      "\t Val. Loss: 1.972 |  Val. PPL:   7.184\n",
      "Epoch: 04 | Time: 68m 50s\n",
      "\tTrain Loss: 1.875 | Train PPL:   6.520\n",
      "\t Val. Loss: 1.798 |  Val. PPL:   6.037\n"
     ]
    }
   ],
   "source": [
    "N_EPOCHS = 4\n",
    "CLIP = 1\n",
    "\n",
    "best_valid_loss = float('inf')\n",
    "\n",
    "for epoch in range(N_EPOCHS):\n",
    "    \n",
    "    start_time = time.time()\n",
    "    \n",
    "    train_loss = train(model, train_iterator, optimizer, criterion, CLIP)\n",
    "    valid_loss = evaluate(model, valid_iterator, criterion)\n",
    "    \n",
    "    end_time = time.time()\n",
    "    \n",
    "    epoch_mins, epoch_secs = epoch_time(start_time, end_time)\n",
    "    \n",
    "    if valid_loss < best_valid_loss:\n",
    "        best_valid_loss = valid_loss\n",
    "        torch.save(model.state_dict(), 'tut6-model.pt')\n",
    "    \n",
    "    print(f'Epoch: {epoch+1:02} | Time: {epoch_mins}m {epoch_secs}s')\n",
    "    print(f'\\tTrain Loss: {train_loss:.3f} | Train PPL: {math.exp(train_loss):7.3f}')\n",
    "    print(f'\\t Val. Loss: {valid_loss:.3f} |  Val. PPL: {math.exp(valid_loss):7.3f}')"
   ]
  },
  {
   "cell_type": "code",
   "execution_count": 693,
   "metadata": {
    "scrolled": true
   },
   "outputs": [],
   "source": [
    "#Split the CKA per attention block\n",
    "#print(CKA_tracker)\n",
    "CKA_tracker_encoder_self_attn = []\n",
    "CKA_tracker_decoder_self_attn = []\n",
    "CKA_tracker_encoder_decoder_attn = []\n",
    "while len(CKA_tracker) > 2:\n",
    "    CKA_tracker_encoder_self_attn.append(CKA_tracker.pop(0))\n",
    "    CKA_tracker_decoder_self_attn.append(CKA_tracker.pop(0))\n",
    "    CKA_tracker_encoder_decoder_attn.append(CKA_tracker.pop(0))  "
   ]
  },
  {
   "cell_type": "code",
   "execution_count": 694,
   "metadata": {},
   "outputs": [
    {
     "name": "stdout",
     "output_type": "stream",
     "text": [
      "[0.38505676, 0.41304645, 0.37288794, 0.33678445, 0.30412754, 0.22422606, 0.18953218, 0.16730587, 0.12671468, 0.12694673, 0.13002653, 0.09735647, 0.11398739, 0.093859054, 0.09094953, 0.09851599, 0.099748336, 0.09354183, 0.11383148, 0.1229138, 0.12971166, 0.12875715, 0.16884895, 0.19059251, 0.2060409, 0.2916967, 0.26605773, 0.35424432, 0.38786256, 0.42670524, 0.5585515, 0.6594921, 0.64135206, 0.766959, 0.8082087, 0.8011372, 0.78189707, 0.8083467, 0.87873054, 0.88540083, 0.9083268, 0.88290524, 0.8547592, 0.8460867, 0.8696496, 0.8365627, 0.87136656, 0.85432416, 0.8396535, 0.8495698, 0.8455305, 0.8290119, 0.84919864, 0.8126774, 0.82882816, 0.8259627, 0.8233187, 0.81530786, 0.82765645, 0.78994006, 0.792612, 0.82491523, 0.78631026, 0.77996606, 0.79130673, 0.7777455, 0.7920587, 0.7976885, 0.7743442, 0.79100066, 0.79444146, 0.77654266, 0.7883539, 0.7963419, 0.81188446, 0.7852347, 0.7767582, 0.77522016, 0.76982594, 0.7655775, 0.77190727, 0.7550259, 0.7776553, 0.77116257, 0.7618673, 0.76258206, 0.72163725, 0.7691283, 0.75486785, 0.7453423, 0.75432247, 0.7412462, 0.73649025, 0.75150895, 0.72348803, 0.74951416, 0.7325502, 0.720589, 0.7417416, 0.73381907, 0.7543249, 0.7527776, 0.75514525, 0.7224798, 0.7413524, 0.7262063, 0.7403312, 0.7589962, 0.7418177, 0.72967434, 0.72465354, 0.74939656, 0.751334, 0.7327759, 0.7161107, 0.7282381, 0.72362584, 0.7259479, 0.7182191, 0.7144842, 0.70925546, 0.7431798, 0.7176861, 0.7346038, 0.7179463, 0.70539737, 0.7165045, 0.7158225, 0.734585, 0.71611184, 0.7018731, 0.70570844, 0.71290183, 0.68460494, 0.6916895, 0.6740119, 0.6835626, 0.69701767, 0.68701077, 0.6870794, 0.7025137, 0.6832319, 0.6953864, 0.72660685, 0.70588416, 0.68093246, 0.67897534, 0.6875476, 0.67568475, 0.7113602, 0.7089815, 0.6850155, 0.687881, 0.69557637, 0.6710848, 0.6880463, 0.6574733, 0.6736137, 0.6412558, 0.6555696, 0.653035, 0.6679004, 0.6440034, 0.65264654, 0.663918, 0.6464388, 0.64752674, 0.6328409, 0.6231835, 0.6312165, 0.65246886, 0.64541644, 0.61512727, 0.5970756, 0.6300731, 0.6296157, 0.61715585, 0.62869465, 0.61251557, 0.6297418, 0.63011616, 0.62872213, 0.6293223, 0.59693354, 0.6245317, 0.61121815, 0.60836416, 0.5995695, 0.6236903, 0.6057605, 0.60837066, 0.6003924, 0.60745865, 0.58417636, 0.60830486, 0.5912234, 0.5890606, 0.6109912, 0.5874749, 0.61199915, 0.5944127, 0.61120504, 0.60307884, 0.57741976, 0.58356065, 0.58074445, 0.5771149, 0.5901527, 0.56471753, 0.5695927, 0.5681412, 0.58945113, 0.56478876, 0.5542741, 0.55865145, 0.5651007, 0.5574398, 0.5824283, 0.566833, 0.54879254, 0.5664453, 0.55670565, 0.55625075, 0.57128495, 0.5693213, 0.557822, 0.557097, 0.6624635, 0.6529084, 0.65436524, 0.65853024, 0.66658694, 0.6651189, 0.6520388, 0.66265845, 0.58006567, 0.571228, 0.5566506, 0.5663906, 0.5579416, 0.56350416, 0.55734664, 0.55761355, 0.56415075, 0.55378634, 0.55170864, 0.54019517, 0.538037, 0.557596, 0.5435553, 0.55744094, 0.5397544, 0.5298345, 0.56241006, 0.54157907, 0.539549, 0.54056937, 0.52353245, 0.52503914, 0.5392101, 0.53049445, 0.54448205, 0.5202508, 0.53326875, 0.5252741, 0.53616005, 0.5249622, 0.5121705, 0.5389991, 0.4966265, 0.53852373, 0.52613336, 0.511853, 0.50746524, 0.52774245, 0.52209896, 0.5273885, 0.5135348, 0.51749027, 0.53112346, 0.5361658, 0.53339916, 0.5554183, 0.5201457, 0.5269899, 0.5112515, 0.50349337, 0.5097196, 0.51518923, 0.5261194, 0.5178439, 0.51128393, 0.5228708, 0.5304637, 0.50447625, 0.5189502, 0.50652903, 0.5120153, 0.49855602, 0.5121888, 0.53414565, 0.5313241, 0.50521874, 0.5150921, 0.520267, 0.5231286, 0.5089225, 0.50050133, 0.51061124, 0.4919176, 0.4997141, 0.48031208, 0.4800277, 0.4841896, 0.50364405, 0.4880439, 0.49184835, 0.5148303, 0.51786757, 0.49333987, 0.48518884, 0.50670487, 0.48411438, 0.48826098, 0.4905627, 0.4861484, 0.48130825, 0.4975091, 0.4702568, 0.49265882, 0.47554693, 0.48493078, 0.4840097, 0.48373297, 0.47301683, 0.47991195, 0.47492933, 0.4864131, 0.49430957, 0.47761774, 0.5050873, 0.48052987, 0.50540596, 0.49436426, 0.50526786, 0.48859027, 0.49295738, 0.5038005, 0.48495272, 0.4796809, 0.49069348, 0.47137097, 0.4693258, 0.47036386, 0.46835384, 0.4814693, 0.46367833, 0.48202857, 0.46921322, 0.46539792, 0.48601723, 0.4814566, 0.4792538, 0.47695693, 0.48628065, 0.49343756, 0.4788358, 0.48378316, 0.46471214, 0.48024908, 0.46050692, 0.46125078, 0.47910532, 0.46044126, 0.46933642, 0.44996107, 0.43975344, 0.44576207, 0.45009482, 0.4515082, 0.4479901, 0.45718205, 0.44569945, 0.45337772, 0.477939, 0.46720412, 0.45424607, 0.4782177, 0.4455671, 0.4673914, 0.45701087, 0.46998656, 0.44365296, 0.42076218, 0.4504311, 0.44907477, 0.4776175, 0.44929162, 0.44514748, 0.46057412, 0.44778076, 0.4506142, 0.4438202, 0.45219794, 0.48920694, 0.4660046, 0.45818987, 0.4716941, 0.47701427, 0.4640915, 0.44965824, 0.45605254, 0.4824688, 0.4840326, 0.4785008, 0.46546933, 0.471288, 0.46217605, 0.47796357, 0.44799173, 0.4656999, 0.45828447, 0.46391407, 0.47942653, 0.48330483, 0.47123596, 0.45444417, 0.43978512, 0.44108856, 0.43961358, 0.43032375, 0.43423676, 0.4347585, 0.4341072, 0.4476725, 0.4293749, 0.45950198, 0.45007053, 0.44586968, 0.43629578, 0.44997886, 0.47025457, 0.45625576, 0.4668109, 0.46038774, 0.46574894, 0.4628335, 0.4551786, 0.4589841, 0.4420409, 0.43403092, 0.4343191, 0.4893813, 0.44182363, 0.44703618, 0.4334201, 0.4512516, 0.4444003, 0.45044687, 0.43034267, 0.44125095, 0.44300267, 0.5637282, 0.56128514, 0.55862254, 0.5749168, 0.5652037, 0.5682508, 0.55687404, 0.54791266, 0.44003507, 0.44989622, 0.4407877, 0.43128037, 0.4602891, 0.44911972, 0.4428283, 0.4575185, 0.45776394, 0.43610486, 0.47826922, 0.45566002, 0.44676626, 0.4547298, 0.44964072, 0.44123745, 0.44111058, 0.4407623, 0.4363527, 0.43773422, 0.43340924, 0.43786404, 0.43526325, 0.44495592, 0.43555617, 0.44214872, 0.45391846, 0.4352586, 0.4397583, 0.43828985, 0.44101152, 0.4348158, 0.4552246, 0.43491855, 0.43172434, 0.42515326, 0.45280793, 0.43365693, 0.4241248, 0.42639628, 0.4379187, 0.4233826, 0.40076908, 0.43831944, 0.43060878, 0.44126132, 0.4355307, 0.44278374, 0.44264233, 0.40735757, 0.44060084, 0.42690644, 0.4340861, 0.4282968, 0.43043014, 0.4251478, 0.4105804, 0.42537153, 0.41798174, 0.40726054, 0.41937825, 0.4217312, 0.43895566, 0.42779276, 0.42841122, 0.45024857, 0.44058248, 0.43944988, 0.44164982, 0.44123068, 0.43853548, 0.4570874, 0.43570682, 0.4368285, 0.42744985, 0.43044534, 0.42743504, 0.43076852, 0.41152692, 0.41789818, 0.42900363, 0.41488853, 0.4267112, 0.42627275, 0.42935327, 0.42400852, 0.4396063, 0.41299322, 0.44171908, 0.42360744, 0.4336562, 0.4322517, 0.42862654, 0.4345995, 0.42820632, 0.42925927, 0.42941722, 0.444836, 0.42781317, 0.41651595, 0.43220803, 0.4304656, 0.4116787, 0.43125036, 0.4305458, 0.42803034, 0.42611256, 0.43374312, 0.41831812, 0.40874347, 0.42470065, 0.4236636, 0.4345695, 0.4119681, 0.43170655, 0.41615415, 0.41871336, 0.42148733, 0.42324534, 0.41471136, 0.4168174, 0.40031454, 0.4081088, 0.41212356, 0.4191437, 0.4270462, 0.4243861, 0.42029485, 0.42316368, 0.41867384, 0.4343238, 0.41553256, 0.42007968, 0.4281262, 0.41355178, 0.42471042, 0.41836742, 0.41308585, 0.42018402, 0.40919602, 0.4151031, 0.43232802, 0.42278457, 0.3977147, 0.41121426, 0.42497268, 0.4263744, 0.41423082, 0.4135709, 0.39800036, 0.40370202, 0.41346514, 0.39685413, 0.422505, 0.42156032, 0.40909505, 0.40530133, 0.41553056, 0.42166987, 0.41513297, 0.43504873, 0.41988125, 0.41390553, 0.41381046, 0.43187344, 0.4393731, 0.45159212, 0.4459957, 0.45213708, 0.44819757, 0.43640542, 0.4341749, 0.43111756, 0.4252597, 0.44498262, 0.43654576, 0.42283773, 0.4360057, 0.410354, 0.42341247, 0.42770955, 0.41589078, 0.42479, 0.43276095, 0.42238328, 0.42367783, 0.41712442, 0.4230516, 0.40844178, 0.42238975, 0.41773686, 0.4226081, 0.41112295, 0.42804062, 0.42331478, 0.4209584, 0.4210755, 0.42506996, 0.41776112, 0.40877724, 0.43120268, 0.42049292, 0.41971096, 0.42832556, 0.41483995, 0.42449474, 0.43464518, 0.42370066, 0.42816666, 0.43380165, 0.4374206, 0.43116045, 0.43272957, 0.4234197, 0.42764926, 0.42662537, 0.4260579, 0.42711565, 0.43462607, 0.46185943, 0.42376682, 0.43442556, 0.4305648, 0.42632398, 0.41574454, 0.42994216, 0.43349767, 0.54079884, 0.53217274, 0.5342336, 0.55572873, 0.5283807, 0.5238276, 0.54653674, 0.5288126, 0.442314, 0.4126182, 0.41920575, 0.44554505, 0.43645012, 0.4217511, 0.42109966, 0.4145813, 0.41552508, 0.41282463, 0.41660586, 0.42254767, 0.4085275, 0.40989935, 0.41559112, 0.39901888, 0.42087057, 0.4052461, 0.41596177, 0.40927854, 0.420079, 0.4193723, 0.40918997, 0.41882074, 0.40985203, 0.41817585, 0.4137622, 0.4168829, 0.42540577, 0.41507924, 0.41168642, 0.40137017, 0.41105816, 0.41683593, 0.40023163, 0.40687224, 0.41090548, 0.3979155, 0.4118464, 0.39394024, 0.42507458, 0.41269162, 0.406033, 0.40939984, 0.4059951, 0.4199928, 0.41649243, 0.41418514, 0.40069732, 0.42372742, 0.42222676, 0.41619447, 0.41853413, 0.4041512, 0.41717184, 0.40890953, 0.40864906, 0.40475997, 0.40313494, 0.3958018, 0.41577482, 0.40266836, 0.4120456, 0.40900946, 0.4071547, 0.41008854, 0.4142387, 0.4116819, 0.41105202, 0.41178742, 0.4015509, 0.40352467, 0.41552615, 0.41081965, 0.3972014, 0.4134053, 0.41324818, 0.41472185, 0.40266576, 0.42565975, 0.41003016, 0.41137767, 0.42103437, 0.41338277, 0.41877532, 0.42135915, 0.421652, 0.4071838, 0.41719058, 0.4214559, 0.41487744, 0.41687658, 0.4086186, 0.4153444, 0.41604912, 0.4165782, 0.4078535, 0.43139377, 0.42324528, 0.4270289, 0.42316732, 0.40756282, 0.41302598, 0.4200258, 0.43072644, 0.41598275, 0.40606165, 0.4327666, 0.41430607, 0.4145031, 0.42220724, 0.42520306, 0.4220276, 0.4147767, 0.41997734, 0.4203744, 0.41565284, 0.42673472, 0.41650262, 0.41340503, 0.4096394, 0.39992443, 0.41517183, 0.4199271, 0.4087484, 0.4202876, 0.4146107, 0.41779676, 0.40789866, 0.4223139, 0.41326964, 0.42864951, 0.42513046, 0.41033316, 0.42218557, 0.4260274, 0.427026, 0.4132193, 0.41365603, 0.41226017, 0.41656172, 0.40667439, 0.41253364, 0.42458248, 0.4159615, 0.41372967, 0.4187692, 0.4053407, 0.41020834, 0.414094, 0.40318942, 0.4094254, 0.4028513, 0.40869012, 0.39735818, 0.407527, 0.40120152, 0.41495314, 0.4079791, 0.4023334, 0.41375124, 0.41215765, 0.42073718, 0.418151, 0.415579, 0.41625154, 0.4054501, 0.39666644, 0.40316585, 0.4006649, 0.39692894, 0.42186403, 0.40305483, 0.40396276, 0.41879633, 0.3901354, 0.41542077, 0.40340889, 0.41760817, 0.41687104, 0.41592035, 0.42034984, 0.4196848, 0.410269, 0.4260689, 0.42705622, 0.42056274, 0.4249095, 0.42466176, 0.4112649, 0.39298415, 0.40184513, 0.42346695, 0.40812734, 0.4159682, 0.41067395, 0.40599644, 0.413715, 0.42787588, 0.42050758, 0.40908393, 0.42110112, 0.41709265, 0.40802148, 0.41560796, 0.41401395, 0.41644526, 0.40373346, 0.42437145, 0.39473775, 0.3996147, 0.39823464, 0.3920119, 0.40264082, 0.4048365, 0.40553427, 0.41012427, 0.40309203, 0.4155477, 0.412734, 0.41444826, 0.4223634, 0.42606142, 0.40727982, 0.42077693, 0.41708025, 0.41171637, 0.4834963, 0.47912893, 0.4929841, 0.50622374, 0.49210176, 0.48241958, 0.53023434, 0.53638595]\n"
     ]
    },
    {
     "data": {
      "text/plain": [
       "[<matplotlib.lines.Line2D at 0x1b796f6a910>]"
      ]
     },
     "execution_count": 694,
     "metadata": {},
     "output_type": "execute_result"
    },
    {
     "data": {
      "image/png": "[encoded data removed]",
      "text/plain": [
       "<Figure size 432x288 with 1 Axes>"
      ]
     },
     "metadata": {
      "needs_background": "light"
     },
     "output_type": "display_data"
    }
   ],
   "source": [
    "print(CKA_tracker_encoder_self_attn)\n",
    "plt.plot(CKA_tracker_encoder_self_attn)\n",
    "# CKA of 1 means the heads are very similar.\n",
    "# CKA of 0 means the heads are very different."
   ]
  },
  {
   "cell_type": "code",
   "execution_count": 695,
   "metadata": {},
   "outputs": [
    {
     "name": "stdout",
     "output_type": "stream",
     "text": [
      "[0.38835856, 0.23473339, 0.100994624, 0.045593332, 0.034300245, 0.024746818, 0.022443427, 0.019518593, 0.01643539, 0.019475909, 0.023748526, 0.032769788, 0.05047678, 0.09184229, 0.14586462, 0.28320912, 0.40849218, 0.56295216, 0.6213818, 0.5418493, 0.66542804, 0.59513456, 0.6292228, 0.6616958, 0.60280514, 0.5851504, 0.63006073, 0.50038505, 0.52659225, 0.5786347, 0.60989827, 0.6317896, 0.7267954, 0.65561754, 0.65047485, 0.6652487, 0.6919257, 0.68461126, 0.7199824, 0.71449494, 0.6659376, 0.6695051, 0.67078876, 0.6417981, 0.56861013, 0.5836138, 0.6067084, 0.5746939, 0.5353542, 0.56694293, 0.5584464, 0.55704707, 0.52910864, 0.5139417, 0.5054376, 0.4907775, 0.45224133, 0.46784568, 0.45921507, 0.44574675, 0.4265459, 0.4573008, 0.44433615, 0.4361125, 0.42362842, 0.4547954, 0.47037485, 0.45632827, 0.4044486, 0.43241212, 0.429422, 0.43936667, 0.43103603, 0.44623128, 0.44048247, 0.4490923, 0.45905164, 0.46983528, 0.4451748, 0.46084487, 0.46199524, 0.4184433, 0.42277429, 0.4122676, 0.44110414, 0.44829106, 0.4322121, 0.432132, 0.43575057, 0.40339318, 0.44573465, 0.4574643, 0.40543962, 0.43607116, 0.4332414, 0.39932045, 0.42177907, 0.41252086, 0.407061, 0.4386178, 0.42756316, 0.44784662, 0.44488192, 0.41307592, 0.40063652, 0.39226106, 0.4220499, 0.40439796, 0.41999128, 0.4106833, 0.40205052, 0.37364852, 0.36616123, 0.41134298, 0.432983, 0.41532686, 0.37726405, 0.39385447, 0.3924897, 0.38663998, 0.40247774, 0.39847812, 0.41849813, 0.4258732, 0.443724, 0.40588894, 0.44899955, 0.42766988, 0.4696057, 0.47530377, 0.45156547, 0.4463106, 0.4464287, 0.43512964, 0.42237338, 0.40364543, 0.42876372, 0.4487172, 0.45241085, 0.4433045, 0.42282453, 0.45518008, 0.44241455, 0.43061078, 0.46778488, 0.48708856, 0.49129954, 0.45134428, 0.43583533, 0.45105347, 0.48406896, 0.46590278, 0.4499857, 0.42465866, 0.44834617, 0.46015286, 0.4553008, 0.4804981, 0.45487496, 0.44676673, 0.46560803, 0.46468043, 0.48282835, 0.4544101, 0.44910276, 0.46561825, 0.48040953, 0.46618629, 0.433692, 0.44417837, 0.42918563, 0.46152017, 0.47126642, 0.46668306, 0.45272163, 0.46555546, 0.45888308, 0.47474197, 0.43451843, 0.44357374, 0.44881573, 0.45899776, 0.45825747, 0.4466133, 0.4463038, 0.4420872, 0.46813306, 0.47964978, 0.45843115, 0.4322298, 0.44079912, 0.46496704, 0.47674522, 0.48528138, 0.4638121, 0.4552786, 0.4345263, 0.43972254, 0.45210066, 0.4322524, 0.45996442, 0.4475043, 0.45054638, 0.4427959, 0.42567113, 0.42842174, 0.44422492, 0.4354922, 0.41664383, 0.44544315, 0.45735654, 0.45576656, 0.44749036, 0.44052646, 0.47724724, 0.4488634, 0.44290647, 0.45722142, 0.44892016, 0.4578797, 0.4253827, 0.41120276, 0.43827617, 0.43634924, 0.44798863, 0.46195173, 0.45153093, 0.5771949, 0.54252, 0.55394, 0.5327083, 0.5190081, 0.5251208, 0.531961, 0.5125968, 0.45662045, 0.42871082, 0.43872204, 0.4646568, 0.47586653, 0.46329084, 0.46235383, 0.48262548, 0.5012035, 0.46167412, 0.46851793, 0.46385142, 0.45916393, 0.48789546, 0.4659548, 0.44679487, 0.45717618, 0.47530589, 0.46025595, 0.44713774, 0.45244732, 0.4449171, 0.4624811, 0.41063178, 0.43921542, 0.45092288, 0.4406625, 0.44762132, 0.4258966, 0.44491723, 0.44999126, 0.45000473, 0.45190898, 0.4232279, 0.44681862, 0.44242406, 0.4477329, 0.44558296, 0.43672374, 0.4383863, 0.44884786, 0.46605185, 0.44341418, 0.41733837, 0.42776838, 0.4507133, 0.43756056, 0.4291562, 0.4258136, 0.4181358, 0.44049633, 0.43416044, 0.43239555, 0.44637302, 0.43438843, 0.44437632, 0.46658722, 0.4655026, 0.46196803, 0.43063125, 0.44761953, 0.44859064, 0.4553845, 0.4403689, 0.4512205, 0.435505, 0.45508456, 0.4776107, 0.4474126, 0.4403722, 0.45515478, 0.46939597, 0.4750857, 0.47998247, 0.4749906, 0.47970688, 0.46860805, 0.4612681, 0.4295207, 0.43657705, 0.4529116, 0.44096828, 0.4346607, 0.43538412, 0.44093224, 0.4175183, 0.42418918, 0.43914223, 0.44307518, 0.40130365, 0.39126638, 0.42325863, 0.4298433, 0.4319172, 0.4195465, 0.41404256, 0.4228779, 0.40945074, 0.44532835, 0.41430017, 0.43227008, 0.44777727, 0.4471662, 0.44590285, 0.4608107, 0.44095907, 0.4411657, 0.4712585, 0.45674443, 0.41224626, 0.42247525, 0.43978617, 0.4455395, 0.43154362, 0.4150697, 0.41281328, 0.4237812, 0.44576, 0.46062598, 0.4602696, 0.42519578, 0.45077565, 0.47893628, 0.49621734, 0.45581424, 0.47713938, 0.47010112, 0.48537216, 0.49362576, 0.46495292, 0.45447984, 0.45916438, 0.46694073, 0.44951937, 0.48961416, 0.4453226, 0.43894085, 0.4483348, 0.4590005, 0.4379097, 0.43943918, 0.4272407, 0.4325125, 0.4252856, 0.4285058, 0.4165922, 0.4180747, 0.4438319, 0.44125283, 0.42940044, 0.43156627, 0.43667662, 0.44235802, 0.45504534, 0.43682456, 0.4225926, 0.43641904, 0.4371388, 0.44226196, 0.43264, 0.45635548, 0.4476134, 0.4399741, 0.42857242, 0.41586182, 0.41620874, 0.42238328, 0.42849624, 0.4258299, 0.4101834, 0.4225435, 0.4131693, 0.43966198, 0.45768675, 0.43884775, 0.4220043, 0.4549496, 0.46212447, 0.4415854, 0.42948386, 0.4184486, 0.3849647, 0.4286287, 0.42369965, 0.3973639, 0.41123453, 0.38827202, 0.42578062, 0.44802907, 0.41563424, 0.44738963, 0.44572926, 0.4577481, 0.45826283, 0.4640808, 0.46807122, 0.45905125, 0.43644527, 0.48276138, 0.4755905, 0.4927249, 0.47959137, 0.4575888, 0.46100232, 0.46872222, 0.4310994, 0.47054496, 0.4485216, 0.45352292, 0.46191287, 0.45055255, 0.4646279, 0.44969663, 0.44285727, 0.43738887, 0.4361674, 0.44972077, 0.4512874, 0.43975696, 0.45672533, 0.45563388, 0.4343388, 0.4482242, 0.42993355, 0.44785643, 0.4316049, 0.4423971, 0.55142826, 0.49914527, 0.5357332, 0.5220666, 0.47501883, 0.50887483, 0.5395815, 0.52528036, 0.4123789, 0.44244695, 0.4602128, 0.45431265, 0.4621555, 0.46357933, 0.45503572, 0.45559457, 0.45821023, 0.4245006, 0.47419128, 0.47187778, 0.44542933, 0.46346894, 0.46477774, 0.46827698, 0.47519776, 0.44946027, 0.43898726, 0.46058908, 0.4556413, 0.457549, 0.4653639, 0.48308158, 0.47613522, 0.47295132, 0.44941863, 0.45346475, 0.44451046, 0.46050414, 0.42482546, 0.46769455, 0.46704397, 0.46622455, 0.46026245, 0.4866105, 0.43284225, 0.45022938, 0.47665477, 0.4509503, 0.47016475, 0.48109904, 0.48768577, 0.5079851, 0.5092338, 0.5305261, 0.50349, 0.48972854, 0.48944092, 0.44685945, 0.50834626, 0.46040162, 0.46705055, 0.48512292, 0.45921767, 0.46590605, 0.48457703, 0.4675837, 0.47169456, 0.45391682, 0.47282755, 0.45517817, 0.45630017, 0.48424593, 0.4578947, 0.44011617, 0.49074864, 0.4814736, 0.44183493, 0.46718016, 0.46918616, 0.46329227, 0.4437884, 0.4710441, 0.4119084, 0.41129842, 0.44715062, 0.44485044, 0.4247334, 0.45154324, 0.44729376, 0.42579266, 0.4483786, 0.45945892, 0.46945658, 0.45505917, 0.45996094, 0.4553683, 0.45984235, 0.45236945, 0.46004167, 0.44868708, 0.46602884, 0.44185755, 0.45771685, 0.4437122, 0.4645363, 0.46883324, 0.45577967, 0.48817995, 0.47068253, 0.47403583, 0.4431405, 0.4829177, 0.48637533, 0.49458572, 0.48427603, 0.4901421, 0.46214536, 0.4943105, 0.4704968, 0.45124328, 0.4699218, 0.45728764, 0.47019568, 0.4669228, 0.45454493, 0.45022967, 0.44374606, 0.43871772, 0.42818817, 0.46704566, 0.44373906, 0.44581044, 0.45907798, 0.4644008, 0.4899694, 0.46571097, 0.47264037, 0.47615823, 0.47889283, 0.46545514, 0.46309674, 0.43809035, 0.47363356, 0.45040092, 0.4488577, 0.48721957, 0.4721907, 0.47695896, 0.45449504, 0.48145112, 0.46609855, 0.45765567, 0.45971775, 0.4579071, 0.46869373, 0.47553292, 0.47054362, 0.48536158, 0.46441793, 0.47347045, 0.46526396, 0.47882834, 0.47143576, 0.48719645, 0.47491655, 0.48701218, 0.4873198, 0.49770117, 0.5177155, 0.5179163, 0.5073034, 0.4812181, 0.48354676, 0.4977014, 0.4816536, 0.4911871, 0.48130998, 0.45738384, 0.438648, 0.4615705, 0.4919257, 0.4948835, 0.48411703, 0.47709545, 0.48674154, 0.48894048, 0.4794236, 0.4717605, 0.48670676, 0.47227898, 0.47716865, 0.4731126, 0.49206647, 0.47359976, 0.46223903, 0.46120325, 0.4456286, 0.4596986, 0.4611498, 0.44406772, 0.45059517, 0.4456078, 0.4440793, 0.4531763, 0.45716015, 0.43592694, 0.4642538, 0.4710696, 0.48328185, 0.47314808, 0.4703603, 0.4655191, 0.46254084, 0.441067, 0.45307836, 0.43605986, 0.42744276, 0.4273374, 0.46059766, 0.45526588, 0.43321893, 0.4058851, 0.44764447, 0.4115777, 0.42035207, 0.43554792, 0.45214477, 0.4768274, 0.48687387, 0.48031655, 0.47316742, 0.47477785, 0.4714426, 0.46741378, 0.46143886, 0.5938032, 0.5244301, 0.56045574, 0.5309616, 0.4891046, 0.5282909, 0.5987676, 0.5621441, 0.45958278, 0.44176412, 0.46132025, 0.44132152, 0.428393, 0.43434274, 0.41861007, 0.48238668, 0.4850011, 0.46725821, 0.46202552, 0.47139907, 0.47893572, 0.4927919, 0.50283045, 0.46373633, 0.46793637, 0.4729767, 0.46706724, 0.46699044, 0.46167085, 0.48471305, 0.45576286, 0.4754202, 0.47154877, 0.45538, 0.4558036, 0.44787112, 0.44332004, 0.4556285, 0.45238885, 0.45533106, 0.46938983, 0.44641086, 0.44882226, 0.44783136, 0.45358202, 0.45888224, 0.46483815, 0.44511786, 0.46877488, 0.44416913, 0.4571207, 0.46919978, 0.45542064, 0.45826507, 0.43433842, 0.44654742, 0.4179941, 0.4445032, 0.45526627, 0.44801715, 0.4762453, 0.45029256, 0.45628634, 0.46858642, 0.47318518, 0.48263168, 0.4742683, 0.46990058, 0.46020892, 0.45967326, 0.45041725, 0.4526099, 0.45986083, 0.4423251, 0.46084, 0.45665732, 0.4589789, 0.4567523, 0.44286183, 0.4538348, 0.4662371, 0.4477614, 0.46009645, 0.47209856, 0.47286877, 0.46183404, 0.45995858, 0.44647193, 0.44385707, 0.44368008, 0.4537334, 0.44730964, 0.44533074, 0.4658788, 0.45750487, 0.46452558, 0.45891595, 0.46882263, 0.46931803, 0.4624734, 0.46352258, 0.4277643, 0.45000207, 0.45256808, 0.44389126, 0.45067623, 0.45397386, 0.45256758, 0.47902885, 0.478217, 0.4787761, 0.49318287, 0.48221266, 0.48174152, 0.4856846, 0.47231495, 0.49603024, 0.48448578, 0.47076616, 0.47283244, 0.45419756, 0.44336632, 0.45507112, 0.4646256, 0.42476976, 0.43721652, 0.47252086, 0.4653403, 0.45816317, 0.4458326, 0.45383263, 0.44996247, 0.42003036, 0.44314864, 0.4623903, 0.4475677, 0.4918313, 0.4828255, 0.50239664, 0.492812, 0.46454272, 0.48663247, 0.48002633, 0.46516597, 0.4559661, 0.4638287, 0.46974435, 0.46891013, 0.4565351, 0.4528753, 0.46494994, 0.43635437, 0.42657366, 0.46657023, 0.4656978, 0.45741805, 0.44584617, 0.4483486, 0.43494558, 0.43867818, 0.45046413, 0.42059934, 0.44285432, 0.43326798, 0.45771912, 0.4656874, 0.47528717, 0.47181967, 0.44286087, 0.4475814, 0.46143493, 0.45748594, 0.4668274, 0.4423984, 0.43274555, 0.44241154, 0.42572293, 0.42544243, 0.4327713, 0.41121283, 0.41447648, 0.40233174, 0.4325267, 0.4404677, 0.43656585, 0.4551077, 0.46570313, 0.45504722, 0.44479218, 0.44383934, 0.45054507, 0.47149098, 0.44874033, 0.43759677, 0.45868146, 0.45219854, 0.45742, 0.4599359, 0.46319708, 0.46497408, 0.45622, 0.45852616, 0.46879566, 0.4609712, 0.46246397, 0.43539926, 0.42545283, 0.43898883, 0.4284048, 0.45368043, 0.45586336, 0.44193336, 0.44553542, 0.43155017, 0.43042532, 0.43088254, 0.43942448, 0.44236073, 0.44487497, 0.43364573, 0.42822683, 0.42822137, 0.43528536, 0.43149164, 0.45774615, 0.4552491, 0.4156618, 0.4352969, 0.4288964, 0.45425987, 0.4652138, 0.4564314, 0.4468042, 0.42881188, 0.43977705, 0.5406144, 0.4838172, 0.5158724, 0.493444, 0.44981942, 0.5094661, 0.5751793, 0.556673]\n"
     ]
    },
    {
     "data": {
      "text/plain": [
       "[<matplotlib.lines.Line2D at 0x1b7834e3f10>]"
      ]
     },
     "execution_count": 695,
     "metadata": {},
     "output_type": "execute_result"
    },
    {
     "data": {
      "image/png": "[encoded data removed]",
      "text/plain": [
       "<Figure size 432x288 with 1 Axes>"
      ]
     },
     "metadata": {
      "needs_background": "light"
     },
     "output_type": "display_data"
    }
   ],
   "source": [
    "print(CKA_tracker_decoder_self_attn)\n",
    "plt.plot(CKA_tracker_decoder_self_attn)"
   ]
  },
  {
   "cell_type": "code",
   "execution_count": 696,
   "metadata": {},
   "outputs": [
    {
     "name": "stdout",
     "output_type": "stream",
     "text": [
      "[0.4998461, 0.5101089, 0.42265078, 0.30365238, 0.20759775, 0.12535185, 0.07699918, 0.05565694, 0.03856441, 0.033008397, 0.032866936, 0.02475576, 0.02341698, 0.0205046, 0.019645698, 0.020819748, 0.018235678, 0.020806963, 0.022906266, 0.02369518, 0.02706421, 0.030390115, 0.036821544, 0.04293236, 0.05273037, 0.068660654, 0.07865209, 0.12197208, 0.13568242, 0.19205426, 0.31613657, 0.42761, 0.44988108, 0.62240505, 0.7273907, 0.74263, 0.71345633, 0.7901078, 0.8816913, 0.90114015, 0.92341495, 0.9060928, 0.88261604, 0.8734618, 0.89839095, 0.87258786, 0.91165113, 0.8996982, 0.8930363, 0.90345746, 0.9030872, 0.8961927, 0.8928744, 0.8844672, 0.90172976, 0.8942748, 0.8923766, 0.8911953, 0.88205725, 0.8575817, 0.8656607, 0.8819754, 0.86715, 0.86245364, 0.86226374, 0.84884936, 0.8574787, 0.84868103, 0.8332526, 0.8603852, 0.865026, 0.85423774, 0.8617673, 0.8652846, 0.85653406, 0.85358185, 0.850645, 0.85234094, 0.85474604, 0.8358161, 0.848584, 0.8396399, 0.8526018, 0.85415417, 0.8445852, 0.8419326, 0.83590454, 0.8726099, 0.85756254, 0.8483092, 0.833697, 0.83088803, 0.8306152, 0.8456585, 0.8350837, 0.8336532, 0.8197412, 0.82591647, 0.8273023, 0.83716375, 0.83157843, 0.82609767, 0.8251986, 0.83164114, 0.81777257, 0.8166852, 0.8132682, 0.82259923, 0.80572796, 0.8159847, 0.8051389, 0.82031435, 0.81331855, 0.81072235, 0.7902865, 0.7795747, 0.78385097, 0.78737146, 0.7800351, 0.7944985, 0.79719454, 0.7921407, 0.7875189, 0.8026865, 0.7945799, 0.7966666, 0.78943324, 0.79567957, 0.7921643, 0.7964325, 0.805491, 0.7918858, 0.7976946, 0.7946312, 0.77861977, 0.77778035, 0.7760585, 0.7821901, 0.773978, 0.783534, 0.7771408, 0.77868253, 0.77324814, 0.78719777, 0.79381365, 0.78284615, 0.784923, 0.78376824, 0.79921764, 0.7788346, 0.79358244, 0.78100365, 0.77958035, 0.7745128, 0.7680134, 0.7790885, 0.7666845, 0.7777155, 0.76280946, 0.7485692, 0.7534866, 0.7630864, 0.7339046, 0.7381142, 0.7603004, 0.7572508, 0.7511123, 0.7335085, 0.73573595, 0.7316294, 0.73031664, 0.7274144, 0.722922, 0.7104833, 0.7194853, 0.72382957, 0.72863716, 0.7394921, 0.7211798, 0.72031736, 0.7225447, 0.7134321, 0.7195224, 0.7258816, 0.72336346, 0.70299196, 0.7039352, 0.7098475, 0.7085917, 0.7128637, 0.7171206, 0.7043166, 0.7170472, 0.6981211, 0.7110211, 0.6959426, 0.7029547, 0.7326184, 0.7128492, 0.70777863, 0.7125489, 0.687149, 0.69650465, 0.687998, 0.68793106, 0.6750698, 0.6881147, 0.6859801, 0.6484915, 0.67162746, 0.6705192, 0.68411905, 0.6582504, 0.6786566, 0.6589554, 0.666902, 0.66405535, 0.6915891, 0.6780903, 0.6643881, 0.66747314, 0.66035056, 0.6574465, 0.66365176, 0.6558765, 0.65082526, 0.64107645, 0.74417996, 0.7260105, 0.7203395, 0.74322623, 0.7299215, 0.7234183, 0.72807455, 0.7149198, 0.67436117, 0.63151413, 0.63514894, 0.6276434, 0.625652, 0.6300785, 0.6488264, 0.6203246, 0.6385395, 0.62356, 0.633369, 0.63775736, 0.61327356, 0.6350948, 0.6203273, 0.62348384, 0.628427, 0.613365, 0.62824494, 0.636449, 0.62346435, 0.6326753, 0.5857487, 0.6173454, 0.6147412, 0.61869025, 0.6199578, 0.60251415, 0.60686725, 0.6138813, 0.5928615, 0.6114571, 0.61069655, 0.62268823, 0.60035163, 0.62040764, 0.6042951, 0.6045696, 0.601818, 0.6000506, 0.6052072, 0.58597326, 0.6129966, 0.59306395, 0.58886313, 0.5918258, 0.613292, 0.5831292, 0.5901988, 0.56532174, 0.5837447, 0.5877993, 0.5904904, 0.5921441, 0.58661914, 0.584356, 0.6040597, 0.58820266, 0.59497666, 0.56223685, 0.578654, 0.5736863, 0.5679572, 0.5768374, 0.57264465, 0.5864888, 0.58133703, 0.5649166, 0.5686377, 0.5789645, 0.5644229, 0.58383834, 0.5596255, 0.54490703, 0.5726233, 0.556269, 0.5571933, 0.5567546, 0.5571746, 0.5787576, 0.56626266, 0.5594894, 0.5609147, 0.5900321, 0.54002136, 0.56069684, 0.5503805, 0.56778175, 0.5523123, 0.5675512, 0.58239555, 0.56462175, 0.5682139, 0.5547574, 0.58092815, 0.5701702, 0.576818, 0.5749604, 0.5620687, 0.5673093, 0.5633072, 0.5542704, 0.5494809, 0.570273, 0.5550313, 0.5675698, 0.5656294, 0.56571347, 0.5720021, 0.57325304, 0.5610977, 0.5678977, 0.56006736, 0.5723075, 0.5532916, 0.5595698, 0.5513609, 0.55388236, 0.55083364, 0.57596415, 0.5822584, 0.5502324, 0.5537029, 0.553004, 0.579338, 0.5627993, 0.55295515, 0.5497859, 0.56431717, 0.570399, 0.5662513, 0.5480605, 0.54729784, 0.5604382, 0.5567593, 0.55571383, 0.55246514, 0.5623461, 0.55868334, 0.56111145, 0.53069776, 0.54578465, 0.55060846, 0.5405419, 0.5300172, 0.5398222, 0.5409933, 0.5457832, 0.55523497, 0.5540516, 0.5493607, 0.5454883, 0.5523814, 0.5344029, 0.5471437, 0.5329966, 0.5329965, 0.53629345, 0.5277038, 0.52574253, 0.5429109, 0.5408947, 0.53734225, 0.52706295, 0.53148335, 0.5331872, 0.5248571, 0.535503, 0.5223713, 0.5428483, 0.53376675, 0.5405425, 0.52501345, 0.54047287, 0.5271052, 0.53432745, 0.5249538, 0.55502564, 0.53478485, 0.5305081, 0.5257378, 0.5428861, 0.52654195, 0.5367722, 0.53753716, 0.54063636, 0.54336864, 0.52366215, 0.5447855, 0.5338, 0.5332603, 0.5345752, 0.51936287, 0.5390237, 0.53801316, 0.5222337, 0.5274944, 0.5422302, 0.5307496, 0.5366689, 0.5354163, 0.5432735, 0.55479145, 0.5503364, 0.53304523, 0.5424591, 0.5533965, 0.5433561, 0.53851557, 0.5489046, 0.55914956, 0.5365831, 0.5353876, 0.5373748, 0.54129046, 0.5354137, 0.5385545, 0.60110235, 0.5446319, 0.54822785, 0.5410218, 0.540564, 0.53730136, 0.53587204, 0.51489836, 0.5279084, 0.52927166, 0.6681935, 0.6530557, 0.6382994, 0.64089674, 0.63737756, 0.6263705, 0.6286418, 0.61203426, 0.53587466, 0.5265214, 0.5251637, 0.53141457, 0.50974226, 0.51653326, 0.5281648, 0.52494353, 0.5237436, 0.5156451, 0.5353735, 0.5108398, 0.5221123, 0.52365893, 0.5214684, 0.51767445, 0.50000376, 0.50864, 0.522552, 0.51681834, 0.5272445, 0.50878876, 0.50852066, 0.5100897, 0.51022387, 0.5195098, 0.52649826, 0.52063984, 0.52855796, 0.52454704, 0.529262, 0.5195218, 0.5269776, 0.5280693, 0.5371551, 0.5075489, 0.5671416, 0.5443496, 0.54308087, 0.54656583, 0.54521936, 0.53224796, 0.52279526, 0.55779886, 0.5443421, 0.53360194, 0.55415314, 0.55867, 0.54026073, 0.5470197, 0.53470606, 0.5239586, 0.5320411, 0.51918954, 0.52549297, 0.5362862, 0.5183409, 0.52834874, 0.5175933, 0.5154386, 0.5293712, 0.5260588, 0.51928055, 0.52519876, 0.52825683, 0.5484406, 0.51499367, 0.5201665, 0.5278434, 0.5316947, 0.525402, 0.53780204, 0.512014, 0.5212875, 0.52636427, 0.5115175, 0.5086433, 0.5308771, 0.5237591, 0.52133274, 0.51529306, 0.5267288, 0.5040798, 0.5131393, 0.5083155, 0.5128164, 0.5099291, 0.51397794, 0.52297276, 0.5185436, 0.53709847, 0.5269516, 0.5250494, 0.5435222, 0.5227991, 0.5153143, 0.51776403, 0.5301965, 0.51929516, 0.520862, 0.53598833, 0.5201286, 0.5353301, 0.5125279, 0.53612447, 0.52549434, 0.5376716, 0.5181831, 0.5484714, 0.53039145, 0.5273341, 0.55285376, 0.5377327, 0.5365357, 0.53943896, 0.52350867, 0.52805567, 0.5198775, 0.5268225, 0.5253656, 0.5304677, 0.52894413, 0.5358633, 0.5410821, 0.54422075, 0.52517205, 0.5195977, 0.5320173, 0.53049356, 0.53683597, 0.5229907, 0.5365884, 0.5410042, 0.5373706, 0.53471583, 0.5298232, 0.5192601, 0.51477194, 0.54472786, 0.5212111, 0.5525647, 0.537213, 0.554396, 0.527222, 0.5322656, 0.53466946, 0.5411387, 0.5283744, 0.51734924, 0.53555536, 0.5219447, 0.53821295, 0.5336541, 0.5197442, 0.5265405, 0.526587, 0.5421428, 0.53302354, 0.5320501, 0.51616544, 0.53222543, 0.5305455, 0.52408427, 0.5346415, 0.52034134, 0.53743315, 0.5267439, 0.5303583, 0.5258909, 0.53739053, 0.519881, 0.5269897, 0.53260475, 0.521506, 0.5313601, 0.5214698, 0.5207351, 0.52295417, 0.52267385, 0.52028745, 0.528006, 0.522039, 0.52522665, 0.53945464, 0.5091854, 0.5157854, 0.5145454, 0.5161547, 0.5151794, 0.531519, 0.508115, 0.52539843, 0.52484304, 0.5056064, 0.5150597, 0.52271897, 0.5272969, 0.53659, 0.534246, 0.5260548, 0.5273904, 0.526466, 0.5331926, 0.52536905, 0.5192049, 0.52558, 0.5377425, 0.52305716, 0.53844374, 0.5232608, 0.53238267, 0.5442892, 0.5267996, 0.53475255, 0.5317036, 0.5356551, 0.5227069, 0.52620715, 0.52498525, 0.53527164, 0.50511867, 0.5227534, 0.5259926, 0.5072005, 0.5057046, 0.52812994, 0.514775, 0.6710735, 0.6476428, 0.6319502, 0.62974805, 0.62225574, 0.6112081, 0.6201355, 0.61359423, 0.52014655, 0.52419114, 0.50125164, 0.52996963, 0.51955485, 0.5187521, 0.53128165, 0.49996284, 0.50518435, 0.5159209, 0.52814233, 0.5183506, 0.50412637, 0.5172953, 0.5165967, 0.5180825, 0.5064358, 0.512907, 0.5161608, 0.51103765, 0.49874124, 0.51056, 0.5138679, 0.5031828, 0.51184535, 0.51112777, 0.49639973, 0.51780576, 0.51176745, 0.5066833, 0.50840664, 0.5010024, 0.49713132, 0.5157879, 0.50766724, 0.5040822, 0.51786095, 0.5059166, 0.514008, 0.502286, 0.51933455, 0.5396499, 0.50960845, 0.5157575, 0.52446604, 0.5226701, 0.5246157, 0.52206796, 0.51656365, 0.5144363, 0.53983885, 0.5401178, 0.54294413, 0.53818625, 0.5212246, 0.5244901, 0.5347783, 0.53257275, 0.5256638, 0.5222314, 0.5259874, 0.5252589, 0.5424208, 0.5135228, 0.52131873, 0.5269476, 0.52308935, 0.52342564, 0.52518094, 0.5210487, 0.52836394, 0.5124564, 0.52331704, 0.5280599, 0.5170589, 0.5239138, 0.52516854, 0.516678, 0.50921416, 0.532696, 0.5079041, 0.5155124, 0.5308058, 0.5136444, 0.5196193, 0.52022535, 0.53042084, 0.5128513, 0.52960503, 0.5358049, 0.5221914, 0.53047794, 0.52509326, 0.5201404, 0.5219974, 0.5060644, 0.5237245, 0.52646536, 0.532839, 0.5320956, 0.5286254, 0.51575285, 0.5192029, 0.5212391, 0.52573174, 0.51477325, 0.50915194, 0.5379638, 0.51348144, 0.52248377, 0.52050424, 0.5325942, 0.5337002, 0.53445, 0.524471, 0.5194761, 0.5317882, 0.5347658, 0.516232, 0.5279673, 0.52321476, 0.5201366, 0.5258303, 0.50949955, 0.5192848, 0.5208134, 0.5153205, 0.52701, 0.50991243, 0.50740165, 0.49741435, 0.50952625, 0.52246714, 0.5115205, 0.5162838, 0.5145345, 0.518814, 0.5102808, 0.50672525, 0.5057707, 0.51531535, 0.50937414, 0.51245046, 0.51787776, 0.52433485, 0.5075944, 0.5217332, 0.51525074, 0.51302916, 0.50378996, 0.5152346, 0.51745844, 0.5049501, 0.5255559, 0.5119633, 0.51548725, 0.5206058, 0.5240226, 0.50740963, 0.5117347, 0.5220399, 0.5286166, 0.51054955, 0.52571064, 0.5232311, 0.52147824, 0.51630193, 0.5182033, 0.5339078, 0.5257985, 0.5206859, 0.53595126, 0.5289989, 0.52909744, 0.52571344, 0.514844, 0.52449346, 0.52512616, 0.52258223, 0.5082929, 0.52689713, 0.5422523, 0.52532184, 0.510251, 0.5265357, 0.5348331, 0.5165403, 0.5350919, 0.53456944, 0.5355213, 0.51585644, 0.51892626, 0.53597146, 0.53198504, 0.5303566, 0.5238344, 0.52212113, 0.5291199, 0.5309296, 0.5413646, 0.5388598, 0.53245574, 0.53897244, 0.5240105, 0.5360764, 0.5292228, 0.5121487, 0.5194171, 0.52276236, 0.5077645, 0.50931245, 0.49758506, 0.5120842, 0.5016082, 0.5144284, 0.5080661, 0.5071291, 0.50543725, 0.52672625, 0.50907487, 0.52161616, 0.49358162, 0.51810056, 0.50409186, 0.5116335, 0.50780946, 0.50457317, 0.6559174, 0.64500684, 0.62918115, 0.62118924, 0.61745363, 0.5995214, 0.6055489, 0.5960935]\n"
     ]
    },
    {
     "data": {
      "text/plain": [
       "[<matplotlib.lines.Line2D at 0x1b794e56c10>]"
      ]
     },
     "execution_count": 696,
     "metadata": {},
     "output_type": "execute_result"
    },
    {
     "data": {
      "image/png": "[encoded data removed]",
      "text/plain": [
       "<Figure size 432x288 with 1 Axes>"
      ]
     },
     "metadata": {
      "needs_background": "light"
     },
     "output_type": "display_data"
    }
   ],
   "source": [
    "print(CKA_tracker_encoder_decoder_attn)\n",
    "plt.plot(CKA_tracker_encoder_decoder_attn)"
   ]
  },
  {
   "cell_type": "markdown",
   "metadata": {
    "id": "RQOjJKCtmGvR"
   },
   "source": [
    "We load our \"best\" parameters and manage to achieve a better test perplexity than all previous models."
   ]
  },
  {
   "cell_type": "code",
   "execution_count": 697,
   "metadata": {
    "id": "Nfe2iuPJmGvR",
    "outputId": "46441cd5-8bb1-4089-e40f-6d890b800812",
    "scrolled": true
   },
   "outputs": [
    {
     "name": "stdout",
     "output_type": "stream",
     "text": [
      "| Test Loss: 1.807 | Test PPL:   6.090 |\n"
     ]
    }
   ],
   "source": [
    "model.load_state_dict(torch.load('tut6-model.pt'))\n",
    "\n",
    "test_loss = evaluate(model, test_iterator, criterion)\n",
    "\n",
    "print(f'| Test Loss: {test_loss:.3f} | Test PPL: {math.exp(test_loss):7.3f} |')"
   ]
  },
  {
   "cell_type": "markdown",
   "metadata": {
    "id": "9EwZboelmGvR"
   },
   "source": [
    "## Inference\n",
    "\n",
    "Now we can can translations from our model with the `translate_sentence` function below.\n",
    "\n",
    "The steps taken are:\n",
    "- tokenize the source sentence if it has not been tokenized (is a string)\n",
    "- append the `<sos>` and `<eos>` tokens\n",
    "- numericalize the source sentence\n",
    "- convert it to a tensor and add a batch dimension\n",
    "- create the source sentence mask\n",
    "- feed the source sentence and mask into the encoder\n",
    "- create a list to hold the output sentence, initialized with an `<sos>` token\n",
    "- while we have not hit a maximum length\n",
    "  - convert the current output sentence prediction into a tensor with a batch dimension\n",
    "  - create a target sentence mask\n",
    "  - place the current output, encoder output and both masks into the decoder\n",
    "  - get next output token prediction from decoder along with attention\n",
    "  - add prediction to current output sentence prediction\n",
    "  - break if the prediction was an `<eos>` token\n",
    "- convert the output sentence from indexes to tokens\n",
    "- return the output sentence (with the `<sos>` token removed) and the attention from the last layer"
   ]
  },
  {
   "cell_type": "code",
   "execution_count": 698,
   "metadata": {
    "id": "hw8NK2bLmGvR",
    "scrolled": true
   },
   "outputs": [],
   "source": [
    "def translate_sentence(sentence, src_field, trg_field, model, device, max_len = 50):\n",
    "    \n",
    "    model.eval()\n",
    "        \n",
    "    if isinstance(sentence, str):\n",
    "        nlp = spacy.load('de_core_news_sm')\n",
    "        tokens = [token.text.lower() for token in nlp(sentence)]\n",
    "    else:\n",
    "        tokens = [token.lower() for token in sentence]\n",
    "\n",
    "    tokens = [src_field.init_token] + tokens + [src_field.eos_token]\n",
    "        \n",
    "    src_indexes = [src_field.vocab.stoi[token] for token in tokens]\n",
    "\n",
    "    src_tensor = torch.LongTensor(src_indexes).unsqueeze(0).to(device)\n",
    "    \n",
    "    src_mask = model.make_src_mask(src_tensor)\n",
    "    \n",
    "    with torch.no_grad():\n",
    "        enc_src = model.encoder(src_tensor, src_mask)\n",
    "\n",
    "    trg_indexes = [trg_field.vocab.stoi[trg_field.init_token]]\n",
    "\n",
    "    for i in range(max_len):\n",
    "\n",
    "        trg_tensor = torch.LongTensor(trg_indexes).unsqueeze(0).to(device)\n",
    "\n",
    "        trg_mask = model.make_trg_mask(trg_tensor)\n",
    "        \n",
    "        with torch.no_grad():\n",
    "            output, attention = model.decoder(trg_tensor, enc_src, trg_mask, src_mask)\n",
    "        \n",
    "        pred_token = output.argmax(2)[:,-1].item()\n",
    "        \n",
    "        trg_indexes.append(pred_token)\n",
    "\n",
    "        if pred_token == trg_field.vocab.stoi[trg_field.eos_token]:\n",
    "            break\n",
    "    \n",
    "    trg_tokens = [trg_field.vocab.itos[i] for i in trg_indexes]\n",
    "    \n",
    "    return trg_tokens[1:], attention"
   ]
  },
  {
   "cell_type": "markdown",
   "metadata": {
    "id": "6MkgR6pzmGvS"
   },
   "source": [
    "We'll now define a function that displays the attention over the source sentence for each step of the decoding. As this model has 8 heads our model we can view the attention for each of the heads."
   ]
  },
  {
   "cell_type": "code",
   "execution_count": 699,
   "metadata": {
    "id": "tvOvqvX7mGvS",
    "scrolled": true
   },
   "outputs": [],
   "source": [
    "def display_attention(sentence, translation, attention, n_heads = 8, n_rows = 4, n_cols = 2):\n",
    "    \n",
    "    assert n_rows * n_cols == n_heads\n",
    "    \n",
    "    fig = plt.figure(figsize=(15,25))\n",
    "    \n",
    "    for i in range(n_heads):\n",
    "        \n",
    "        ax = fig.add_subplot(n_rows, n_cols, i+1)\n",
    "        \n",
    "        _attention = attention.squeeze(0)[i].cpu().detach().numpy()\n",
    "\n",
    "        cax = ax.matshow(_attention, cmap='bone')\n",
    "\n",
    "        ax.tick_params(labelsize=12)\n",
    "        ax.set_xticklabels(['']+['<sos>']+[t.lower() for t in sentence]+['<eos>'], \n",
    "                           rotation=45)\n",
    "        ax.set_yticklabels(['']+translation)\n",
    "\n",
    "        ax.xaxis.set_major_locator(ticker.MultipleLocator(1))\n",
    "        ax.yaxis.set_major_locator(ticker.MultipleLocator(1))\n",
    "\n",
    "    plt.show()\n",
    "    plt.close()"
   ]
  },
  {
   "cell_type": "markdown",
   "metadata": {
    "id": "HsPrlNylmGvS"
   },
   "source": [
    "First, we'll get an example from the training set."
   ]
  },
  {
   "cell_type": "code",
   "execution_count": 700,
   "metadata": {
    "id": "RvaaKSYamGvS",
    "outputId": "95f2ded3-4ce2-4aa9-f525-3854f8157f8a",
    "scrolled": true
   },
   "outputs": [
    {
     "name": "stdout",
     "output_type": "stream",
     "text": [
      "src = ['eine', 'frau', 'mit', 'einer', 'großen', 'geldbörse', 'geht', 'an', 'einem', 'tor', 'vorbei', '.']\n",
      "trg = ['a', 'woman', 'with', 'a', 'large', 'purse', 'is', 'walking', 'by', 'a', 'gate', '.']\n"
     ]
    }
   ],
   "source": [
    "example_idx = 8\n",
    "\n",
    "src = vars(train_data.examples[example_idx])['src']\n",
    "trg = vars(train_data.examples[example_idx])['trg']\n",
    "\n",
    "print(f'src = {src}')\n",
    "print(f'trg = {trg}')"
   ]
  },
  {
   "cell_type": "markdown",
   "metadata": {
    "id": "MMnmyPIHmGvS"
   },
   "source": [
    "Our translation looks pretty good, although our model changes *is walking by* to *walks by*. The meaning is still the same."
   ]
  },
  {
   "cell_type": "code",
   "execution_count": 701,
   "metadata": {
    "id": "lMDjEOgTmGvT",
    "outputId": "7fdef3e2-9372-4156-9472-a937bb56df20",
    "scrolled": true
   },
   "outputs": [
    {
     "name": "stdout",
     "output_type": "stream",
     "text": [
      "predicted trg = ['a', 'woman', 'with', 'a', 'large', 'purse', 'walks', 'by', 'a', 'goal', '.', '<eos>']\n"
     ]
    },
    {
     "name": "stderr",
     "output_type": "stream",
     "text": [
      "<ipython-input-675-efb3e7695864>:42: RuntimeWarning: invalid value encountered in float_scalars\n",
      "  return scaled_hsic / (norm_X * norm_Y)\n"
     ]
    }
   ],
   "source": [
    "translation, attention = translate_sentence(src, SRC, TRG, model, device)\n",
    "\n",
    "print(f'predicted trg = {translation}')"
   ]
  },
  {
   "cell_type": "markdown",
   "metadata": {
    "id": "ufACoCrUmGvT"
   },
   "source": [
    "We can see the attention from each head below. Each is certainly different, but it's difficult (perhaps impossible) to reason about what head has actually learned to pay attention to. Some heads pay full attention to \"eine\" when translating \"a\", some don't at all, and some do a little. They all seem to follow the similar \"downward staircase\" pattern and the attention when outputting the last two tokens is equally spread over the final two tokens in the input sentence."
   ]
  },
  {
   "cell_type": "code",
   "execution_count": 702,
   "metadata": {
    "id": "3OhNKxeEmGvT",
    "outputId": "693d5c70-b20b-4b58-82a2-113202456a9e",
    "scrolled": true
   },
   "outputs": [
    {
     "name": "stderr",
     "output_type": "stream",
     "text": [
      "<ipython-input-699-8546ab0d7ba0>:16: UserWarning: FixedFormatter should only be used together with FixedLocator\n",
      "  ax.set_xticklabels(['']+['<sos>']+[t.lower() for t in sentence]+['<eos>'],\n",
      "<ipython-input-699-8546ab0d7ba0>:18: UserWarning: FixedFormatter should only be used together with FixedLocator\n",
      "  ax.set_yticklabels(['']+translation)\n"
     ]
    },
    {
     "ename": "IndexError",
     "evalue": "index 4 is out of bounds for dimension 0 with size 4",
     "output_type": "error",
     "traceback": [
      "\u001b[1;31m---------------------------------------------------------------------------\u001b[0m",
      "\u001b[1;31mIndexError\u001b[0m                                Traceback (most recent call last)",
      "\u001b[1;32m<ipython-input-702-f9207b189297>\u001b[0m in \u001b[0;36m<module>\u001b[1;34m\u001b[0m\n\u001b[1;32m----> 1\u001b[1;33m \u001b[0mdisplay_attention\u001b[0m\u001b[1;33m(\u001b[0m\u001b[0msrc\u001b[0m\u001b[1;33m,\u001b[0m \u001b[0mtranslation\u001b[0m\u001b[1;33m,\u001b[0m \u001b[0mattention\u001b[0m\u001b[1;33m)\u001b[0m\u001b[1;33m\u001b[0m\u001b[1;33m\u001b[0m\u001b[0m\n\u001b[0m",
      "\u001b[1;32m<ipython-input-699-8546ab0d7ba0>\u001b[0m in \u001b[0;36mdisplay_attention\u001b[1;34m(sentence, translation, attention, n_heads, n_rows, n_cols)\u001b[0m\n\u001b[0;32m      9\u001b[0m         \u001b[0max\u001b[0m \u001b[1;33m=\u001b[0m \u001b[0mfig\u001b[0m\u001b[1;33m.\u001b[0m\u001b[0madd_subplot\u001b[0m\u001b[1;33m(\u001b[0m\u001b[0mn_rows\u001b[0m\u001b[1;33m,\u001b[0m \u001b[0mn_cols\u001b[0m\u001b[1;33m,\u001b[0m \u001b[0mi\u001b[0m\u001b[1;33m+\u001b[0m\u001b[1;36m1\u001b[0m\u001b[1;33m)\u001b[0m\u001b[1;33m\u001b[0m\u001b[1;33m\u001b[0m\u001b[0m\n\u001b[0;32m     10\u001b[0m \u001b[1;33m\u001b[0m\u001b[0m\n\u001b[1;32m---> 11\u001b[1;33m         \u001b[0m_attention\u001b[0m \u001b[1;33m=\u001b[0m \u001b[0mattention\u001b[0m\u001b[1;33m.\u001b[0m\u001b[0msqueeze\u001b[0m\u001b[1;33m(\u001b[0m\u001b[1;36m0\u001b[0m\u001b[1;33m)\u001b[0m\u001b[1;33m[\u001b[0m\u001b[0mi\u001b[0m\u001b[1;33m]\u001b[0m\u001b[1;33m.\u001b[0m\u001b[0mcpu\u001b[0m\u001b[1;33m(\u001b[0m\u001b[1;33m)\u001b[0m\u001b[1;33m.\u001b[0m\u001b[0mdetach\u001b[0m\u001b[1;33m(\u001b[0m\u001b[1;33m)\u001b[0m\u001b[1;33m.\u001b[0m\u001b[0mnumpy\u001b[0m\u001b[1;33m(\u001b[0m\u001b[1;33m)\u001b[0m\u001b[1;33m\u001b[0m\u001b[1;33m\u001b[0m\u001b[0m\n\u001b[0m\u001b[0;32m     12\u001b[0m \u001b[1;33m\u001b[0m\u001b[0m\n\u001b[0;32m     13\u001b[0m         \u001b[0mcax\u001b[0m \u001b[1;33m=\u001b[0m \u001b[0max\u001b[0m\u001b[1;33m.\u001b[0m\u001b[0mmatshow\u001b[0m\u001b[1;33m(\u001b[0m\u001b[0m_attention\u001b[0m\u001b[1;33m,\u001b[0m \u001b[0mcmap\u001b[0m\u001b[1;33m=\u001b[0m\u001b[1;34m'bone'\u001b[0m\u001b[1;33m)\u001b[0m\u001b[1;33m\u001b[0m\u001b[1;33m\u001b[0m\u001b[0m\n",
      "\u001b[1;31mIndexError\u001b[0m: index 4 is out of bounds for dimension 0 with size 4"
     ]
    },
    {
     "data": {
      "image/png": "[encoded data removed]",
      "text/plain": [
       "<Figure size 1080x1800 with 5 Axes>"
      ]
     },
     "metadata": {
      "needs_background": "light"
     },
     "output_type": "display_data"
    }
   ],
   "source": [
    "display_attention(src, translation, attention)"
   ]
  },
  {
   "cell_type": "markdown",
   "metadata": {
    "id": "q9ylfV0ZmGvT"
   },
   "source": [
    "Next, let's get an example the model has not been trained on from the validation set."
   ]
  },
  {
   "cell_type": "code",
   "execution_count": 703,
   "metadata": {
    "id": "ua2kEgZHmGvT",
    "outputId": "9f47ead4-4d11-442c-8060-db8277f6bed7",
    "scrolled": true
   },
   "outputs": [
    {
     "name": "stdout",
     "output_type": "stream",
     "text": [
      "src = ['ein', 'brauner', 'hund', 'rennt', 'dem', 'schwarzen', 'hund', 'hinterher', '.']\n",
      "trg = ['a', 'brown', 'dog', 'is', 'running', 'after', 'the', 'black', 'dog', '.']\n"
     ]
    }
   ],
   "source": [
    "example_idx = 6\n",
    "\n",
    "src = vars(valid_data.examples[example_idx])['src']\n",
    "trg = vars(valid_data.examples[example_idx])['trg']\n",
    "\n",
    "print(f'src = {src}')\n",
    "print(f'trg = {trg}')"
   ]
  },
  {
   "cell_type": "markdown",
   "metadata": {
    "id": "9mzQAaSGmGvT"
   },
   "source": [
    "The model translates it by switching *is running* to just *runs*, but it is an acceptable swap."
   ]
  },
  {
   "cell_type": "code",
   "execution_count": 704,
   "metadata": {
    "id": "3w8-0S3lmGvU",
    "outputId": "1c36e3f1-b80d-492a-9b75-2fa6f913ec96",
    "scrolled": true
   },
   "outputs": [
    {
     "name": "stdout",
     "output_type": "stream",
     "text": [
      "predicted trg = ['a', 'brown', 'dog', 'is', 'running', 'for', 'the', 'black', 'dog', '.', '<eos>']\n"
     ]
    },
    {
     "name": "stderr",
     "output_type": "stream",
     "text": [
      "<ipython-input-675-efb3e7695864>:42: RuntimeWarning: invalid value encountered in float_scalars\n",
      "  return scaled_hsic / (norm_X * norm_Y)\n"
     ]
    }
   ],
   "source": [
    "translation, attention = translate_sentence(src, SRC, TRG, model, device)\n",
    "\n",
    "print(f'predicted trg = {translation}')"
   ]
  },
  {
   "cell_type": "markdown",
   "metadata": {
    "id": "tk_J-ARRmGvU"
   },
   "source": [
    "Again, some heads pay full attention to \"ein\" whilst some pay no attention to it. Again, most of the heads seem to spread their attention over both the period and `<eos>` tokens in the source sentence when outputting the period and `<eos>` sentence in the predicted target sentence, though some seem to pay attention to tokens from near the start of the sentence."
   ]
  },
  {
   "cell_type": "code",
   "execution_count": 705,
   "metadata": {
    "id": "Q24ETTacmGvU",
    "outputId": "75c815c7-9dc7-4af1-cbb1-8c5788b0c152",
    "scrolled": true
   },
   "outputs": [
    {
     "name": "stderr",
     "output_type": "stream",
     "text": [
      "<ipython-input-699-8546ab0d7ba0>:16: UserWarning: FixedFormatter should only be used together with FixedLocator\n",
      "  ax.set_xticklabels(['']+['<sos>']+[t.lower() for t in sentence]+['<eos>'],\n",
      "<ipython-input-699-8546ab0d7ba0>:18: UserWarning: FixedFormatter should only be used together with FixedLocator\n",
      "  ax.set_yticklabels(['']+translation)\n"
     ]
    },
    {
     "ename": "IndexError",
     "evalue": "index 4 is out of bounds for dimension 0 with size 4",
     "output_type": "error",
     "traceback": [
      "\u001b[1;31m---------------------------------------------------------------------------\u001b[0m",
      "\u001b[1;31mIndexError\u001b[0m                                Traceback (most recent call last)",
      "\u001b[1;32m<ipython-input-705-f9207b189297>\u001b[0m in \u001b[0;36m<module>\u001b[1;34m\u001b[0m\n\u001b[1;32m----> 1\u001b[1;33m \u001b[0mdisplay_attention\u001b[0m\u001b[1;33m(\u001b[0m\u001b[0msrc\u001b[0m\u001b[1;33m,\u001b[0m \u001b[0mtranslation\u001b[0m\u001b[1;33m,\u001b[0m \u001b[0mattention\u001b[0m\u001b[1;33m)\u001b[0m\u001b[1;33m\u001b[0m\u001b[1;33m\u001b[0m\u001b[0m\n\u001b[0m",
      "\u001b[1;32m<ipython-input-699-8546ab0d7ba0>\u001b[0m in \u001b[0;36mdisplay_attention\u001b[1;34m(sentence, translation, attention, n_heads, n_rows, n_cols)\u001b[0m\n\u001b[0;32m      9\u001b[0m         \u001b[0max\u001b[0m \u001b[1;33m=\u001b[0m \u001b[0mfig\u001b[0m\u001b[1;33m.\u001b[0m\u001b[0madd_subplot\u001b[0m\u001b[1;33m(\u001b[0m\u001b[0mn_rows\u001b[0m\u001b[1;33m,\u001b[0m \u001b[0mn_cols\u001b[0m\u001b[1;33m,\u001b[0m \u001b[0mi\u001b[0m\u001b[1;33m+\u001b[0m\u001b[1;36m1\u001b[0m\u001b[1;33m)\u001b[0m\u001b[1;33m\u001b[0m\u001b[1;33m\u001b[0m\u001b[0m\n\u001b[0;32m     10\u001b[0m \u001b[1;33m\u001b[0m\u001b[0m\n\u001b[1;32m---> 11\u001b[1;33m         \u001b[0m_attention\u001b[0m \u001b[1;33m=\u001b[0m \u001b[0mattention\u001b[0m\u001b[1;33m.\u001b[0m\u001b[0msqueeze\u001b[0m\u001b[1;33m(\u001b[0m\u001b[1;36m0\u001b[0m\u001b[1;33m)\u001b[0m\u001b[1;33m[\u001b[0m\u001b[0mi\u001b[0m\u001b[1;33m]\u001b[0m\u001b[1;33m.\u001b[0m\u001b[0mcpu\u001b[0m\u001b[1;33m(\u001b[0m\u001b[1;33m)\u001b[0m\u001b[1;33m.\u001b[0m\u001b[0mdetach\u001b[0m\u001b[1;33m(\u001b[0m\u001b[1;33m)\u001b[0m\u001b[1;33m.\u001b[0m\u001b[0mnumpy\u001b[0m\u001b[1;33m(\u001b[0m\u001b[1;33m)\u001b[0m\u001b[1;33m\u001b[0m\u001b[1;33m\u001b[0m\u001b[0m\n\u001b[0m\u001b[0;32m     12\u001b[0m \u001b[1;33m\u001b[0m\u001b[0m\n\u001b[0;32m     13\u001b[0m         \u001b[0mcax\u001b[0m \u001b[1;33m=\u001b[0m \u001b[0max\u001b[0m\u001b[1;33m.\u001b[0m\u001b[0mmatshow\u001b[0m\u001b[1;33m(\u001b[0m\u001b[0m_attention\u001b[0m\u001b[1;33m,\u001b[0m \u001b[0mcmap\u001b[0m\u001b[1;33m=\u001b[0m\u001b[1;34m'bone'\u001b[0m\u001b[1;33m)\u001b[0m\u001b[1;33m\u001b[0m\u001b[1;33m\u001b[0m\u001b[0m\n",
      "\u001b[1;31mIndexError\u001b[0m: index 4 is out of bounds for dimension 0 with size 4"
     ]
    },
    {
     "data": {
      "image/png": "[encoded data removed]",
      "text/plain": [
       "<Figure size 1080x1800 with 5 Axes>"
      ]
     },
     "metadata": {
      "needs_background": "light"
     },
     "output_type": "display_data"
    }
   ],
   "source": [
    "display_attention(src, translation, attention)"
   ]
  },
  {
   "cell_type": "markdown",
   "metadata": {
    "id": "7CPwnjALmGvU"
   },
   "source": [
    "Finally, we'll look at an example from the test data."
   ]
  },
  {
   "cell_type": "code",
   "execution_count": 707,
   "metadata": {
    "id": "PDPBQHJQmGvU",
    "outputId": "65ae10a6-2809-4ceb-9732-17a8ecba7512",
    "scrolled": true
   },
   "outputs": [
    {
     "name": "stdout",
     "output_type": "stream",
     "text": [
      "src = ['eine', 'mutter', 'und', 'ihr', 'kleiner', 'sohn', 'genießen', 'einen', 'schönen', 'tag', 'im', 'freien', '.']\n",
      "trg = ['a', 'mother', 'and', 'her', 'young', 'song', 'enjoying', 'a', 'beautiful', 'day', 'outside', '.']\n"
     ]
    }
   ],
   "source": [
    "example_idx = 10\n",
    "\n",
    "src = vars(test_data.examples[example_idx])['src']\n",
    "trg = vars(test_data.examples[example_idx])['trg']\n",
    "\n",
    "print(f'src = {src}')\n",
    "print(f'trg = {trg}')"
   ]
  },
  {
   "cell_type": "markdown",
   "metadata": {
    "id": "97NvZR4smGvU"
   },
   "source": [
    "A perfect translation!"
   ]
  },
  {
   "cell_type": "code",
   "execution_count": 708,
   "metadata": {
    "id": "fcrA4TpomGvV",
    "outputId": "7db0d5db-465d-48ac-d5fb-107fefd3f45c",
    "scrolled": true
   },
   "outputs": [
    {
     "name": "stdout",
     "output_type": "stream",
     "text": [
      "predicted trg = ['a', 'mother', 'and', 'her', 'son', 'enjoying', 'a', 'beautiful', 'day', 'outside', '.', '<eos>']\n"
     ]
    },
    {
     "name": "stderr",
     "output_type": "stream",
     "text": [
      "<ipython-input-675-efb3e7695864>:42: RuntimeWarning: invalid value encountered in float_scalars\n",
      "  return scaled_hsic / (norm_X * norm_Y)\n"
     ]
    }
   ],
   "source": [
    "translation, attention = translate_sentence(src, SRC, TRG, model, device)\n",
    "\n",
    "print(f'predicted trg = {translation}')"
   ]
  },
  {
   "cell_type": "code",
   "execution_count": 709,
   "metadata": {
    "id": "os9tTnaLmGvV",
    "outputId": "d2eaaee3-32bf-40a9-f85b-9016fc0daea6",
    "scrolled": true
   },
   "outputs": [
    {
     "name": "stderr",
     "output_type": "stream",
     "text": [
      "<ipython-input-699-8546ab0d7ba0>:16: UserWarning: FixedFormatter should only be used together with FixedLocator\n",
      "  ax.set_xticklabels(['']+['<sos>']+[t.lower() for t in sentence]+['<eos>'],\n",
      "<ipython-input-699-8546ab0d7ba0>:18: UserWarning: FixedFormatter should only be used together with FixedLocator\n",
      "  ax.set_yticklabels(['']+translation)\n"
     ]
    },
    {
     "ename": "IndexError",
     "evalue": "index 4 is out of bounds for dimension 0 with size 4",
     "output_type": "error",
     "traceback": [
      "\u001b[1;31m---------------------------------------------------------------------------\u001b[0m",
      "\u001b[1;31mIndexError\u001b[0m                                Traceback (most recent call last)",
      "\u001b[1;32m<ipython-input-709-f9207b189297>\u001b[0m in \u001b[0;36m<module>\u001b[1;34m\u001b[0m\n\u001b[1;32m----> 1\u001b[1;33m \u001b[0mdisplay_attention\u001b[0m\u001b[1;33m(\u001b[0m\u001b[0msrc\u001b[0m\u001b[1;33m,\u001b[0m \u001b[0mtranslation\u001b[0m\u001b[1;33m,\u001b[0m \u001b[0mattention\u001b[0m\u001b[1;33m)\u001b[0m\u001b[1;33m\u001b[0m\u001b[1;33m\u001b[0m\u001b[0m\n\u001b[0m",
      "\u001b[1;32m<ipython-input-699-8546ab0d7ba0>\u001b[0m in \u001b[0;36mdisplay_attention\u001b[1;34m(sentence, translation, attention, n_heads, n_rows, n_cols)\u001b[0m\n\u001b[0;32m      9\u001b[0m         \u001b[0max\u001b[0m \u001b[1;33m=\u001b[0m \u001b[0mfig\u001b[0m\u001b[1;33m.\u001b[0m\u001b[0madd_subplot\u001b[0m\u001b[1;33m(\u001b[0m\u001b[0mn_rows\u001b[0m\u001b[1;33m,\u001b[0m \u001b[0mn_cols\u001b[0m\u001b[1;33m,\u001b[0m \u001b[0mi\u001b[0m\u001b[1;33m+\u001b[0m\u001b[1;36m1\u001b[0m\u001b[1;33m)\u001b[0m\u001b[1;33m\u001b[0m\u001b[1;33m\u001b[0m\u001b[0m\n\u001b[0;32m     10\u001b[0m \u001b[1;33m\u001b[0m\u001b[0m\n\u001b[1;32m---> 11\u001b[1;33m         \u001b[0m_attention\u001b[0m \u001b[1;33m=\u001b[0m \u001b[0mattention\u001b[0m\u001b[1;33m.\u001b[0m\u001b[0msqueeze\u001b[0m\u001b[1;33m(\u001b[0m\u001b[1;36m0\u001b[0m\u001b[1;33m)\u001b[0m\u001b[1;33m[\u001b[0m\u001b[0mi\u001b[0m\u001b[1;33m]\u001b[0m\u001b[1;33m.\u001b[0m\u001b[0mcpu\u001b[0m\u001b[1;33m(\u001b[0m\u001b[1;33m)\u001b[0m\u001b[1;33m.\u001b[0m\u001b[0mdetach\u001b[0m\u001b[1;33m(\u001b[0m\u001b[1;33m)\u001b[0m\u001b[1;33m.\u001b[0m\u001b[0mnumpy\u001b[0m\u001b[1;33m(\u001b[0m\u001b[1;33m)\u001b[0m\u001b[1;33m\u001b[0m\u001b[1;33m\u001b[0m\u001b[0m\n\u001b[0m\u001b[0;32m     12\u001b[0m \u001b[1;33m\u001b[0m\u001b[0m\n\u001b[0;32m     13\u001b[0m         \u001b[0mcax\u001b[0m \u001b[1;33m=\u001b[0m \u001b[0max\u001b[0m\u001b[1;33m.\u001b[0m\u001b[0mmatshow\u001b[0m\u001b[1;33m(\u001b[0m\u001b[0m_attention\u001b[0m\u001b[1;33m,\u001b[0m \u001b[0mcmap\u001b[0m\u001b[1;33m=\u001b[0m\u001b[1;34m'bone'\u001b[0m\u001b[1;33m)\u001b[0m\u001b[1;33m\u001b[0m\u001b[1;33m\u001b[0m\u001b[0m\n",
      "\u001b[1;31mIndexError\u001b[0m: index 4 is out of bounds for dimension 0 with size 4"
     ]
    },
    {
     "data": {
      "image/png": "[encoded data removed]",
      "text/plain": [
       "<Figure size 1080x1800 with 5 Axes>"
      ]
     },
     "metadata": {
      "needs_background": "light"
     },
     "output_type": "display_data"
    }
   ],
   "source": [
    "display_attention(src, translation, attention)"
   ]
  },
  {
   "cell_type": "markdown",
   "metadata": {
    "id": "Pb3Z8U0UmGvV"
   },
   "source": [
    "## BLEU\n",
    "\n",
    "Finally we calculate the BLEU score for the Transformer."
   ]
  },
  {
   "cell_type": "code",
   "execution_count": 710,
   "metadata": {
    "id": "-V2Fq33ymGvV",
    "scrolled": true
   },
   "outputs": [],
   "source": [
    "from torchtext.data.metrics import bleu_score\n",
    "\n",
    "def calculate_bleu(data, src_field, trg_field, model, device, max_len = 50):\n",
    "    \n",
    "    trgs = []\n",
    "    pred_trgs = []\n",
    "    speeder = 0    \n",
    "    for datum in data:\n",
    "        #speeder += 1\n",
    "        #if speeder == 3:\n",
    "        #    return bleu_score(pred_trgs, trgs)\n",
    "        src = vars(datum)['src']\n",
    "        trg = vars(datum)['trg']\n",
    "        \n",
    "        pred_trg, _ = translate_sentence(src, src_field, trg_field, model, device, max_len)\n",
    "        \n",
    "        #cut off <eos> token\n",
    "        pred_trg = pred_trg[:-1]\n",
    "        \n",
    "        pred_trgs.append(pred_trg)\n",
    "        trgs.append([trg])\n",
    "        \n",
    "    return bleu_score(pred_trgs, trgs)\n",
    "\n"
   ]
  },
  {
   "cell_type": "markdown",
   "metadata": {
    "id": "NhT-u0F0mGvV"
   },
   "source": [
    "We get a BLEU score of 36.52, which beats the ~34 of the convolutional sequence-to-sequence model and ~28 of the attention based RNN model. All this whilst having the least amount of parameters and the fastest training time!"
   ]
  },
  {
   "cell_type": "code",
   "execution_count": 711,
   "metadata": {
    "id": "jsqe4c2BmGvV",
    "outputId": "f33f78be-dff4-456c-e4ad-060595f516b5",
    "scrolled": true
   },
   "outputs": [
    {
     "name": "stderr",
     "output_type": "stream",
     "text": [
      "<ipython-input-675-efb3e7695864>:42: RuntimeWarning: invalid value encountered in float_scalars\n",
      "  return scaled_hsic / (norm_X * norm_Y)\n"
     ]
    },
    {
     "name": "stdout",
     "output_type": "stream",
     "text": [
      "BLEU score = 32.57\n"
     ]
    }
   ],
   "source": [
    "bleu_score = calculate_bleu(test_data, SRC, TRG, model, device)\n",
    "\n",
    "print(f'BLEU score = {bleu_score*100:.2f}')"
   ]
  },
  {
   "cell_type": "markdown",
   "metadata": {
    "id": "QpEfch_omGvW"
   },
   "source": [
    "Congratulations for finishing these tutorials! I hope you've found them useful.\n",
    "\n",
    "If you find any mistakes or want to ask any questions about any of the code or explanations used, feel free to submit a GitHub issue and I will try to correct it ASAP.\n",
    "\n",
    "## Appendix\n",
    "\n",
    "The `calculate_bleu` function above is unoptimized. Below is a significantly faster, vectorized version of it that should be used if needed. Credit for the implementation goes to [@azadyasar](https://github.com/azadyasar)."
   ]
  },
  {
   "cell_type": "code",
   "execution_count": null,
   "metadata": {
    "id": "HOqc7JSmmGvW",
    "scrolled": true
   },
   "outputs": [],
   "source": [
    "def translate_sentence_vectorized(src_tensor, src_field, trg_field, model, device, max_len=50):\n",
    "    assert isinstance(src_tensor, torch.Tensor)\n",
    "\n",
    "    model.eval()\n",
    "    src_mask = model.make_src_mask(src_tensor)\n",
    "\n",
    "    with torch.no_grad():\n",
    "        enc_src = model.encoder(src_tensor, src_mask)\n",
    "    # enc_src = [batch_sz, src_len, hid_dim]\n",
    "\n",
    "    trg_indexes = [[trg_field.vocab.stoi[trg_field.init_token]] for _ in range(len(src_tensor))]\n",
    "    # Even though some examples might have been completed by producing a <eos> token\n",
    "    # we still need to feed them through the model because other are not yet finished\n",
    "    # and all examples act as a batch. Once every single sentence prediction encounters\n",
    "    # <eos> token, then we can stop predicting.\n",
    "    translations_done = [0] * len(src_tensor)\n",
    "    for i in range(max_len):\n",
    "        trg_tensor = torch.LongTensor(trg_indexes).to(device)\n",
    "        trg_mask = model.make_trg_mask(trg_tensor)\n",
    "        with torch.no_grad():\n",
    "            output, attention = model.decoder(trg_tensor, enc_src, trg_mask, src_mask)\n",
    "        pred_tokens = output.argmax(2)[:,-1]\n",
    "        for i, pred_token_i in enumerate(pred_tokens):\n",
    "            trg_indexes[i].append(pred_token_i)\n",
    "            if pred_token_i == trg_field.vocab.stoi[trg_field.eos_token]:\n",
    "                translations_done[i] = 1\n",
    "        if all(translations_done):\n",
    "            break\n",
    "\n",
    "    # Iterate through each predicted example one by one;\n",
    "    # Cut-off the portion including the after the <eos> token\n",
    "    pred_sentences = []\n",
    "    for trg_sentence in trg_indexes:\n",
    "        pred_sentence = []\n",
    "        for i in range(1, len(trg_sentence)):\n",
    "            if trg_sentence[i] == trg_field.vocab.stoi[trg_field.eos_token]:\n",
    "                break\n",
    "            pred_sentence.append(trg_field.vocab.itos[trg_sentence[i]])\n",
    "        pred_sentences.append(pred_sentence)\n",
    "\n",
    "    return pred_sentences, attention"
   ]
  },
  {
   "cell_type": "code",
   "execution_count": null,
   "metadata": {
    "id": "eZqfZ04LmGvW",
    "scrolled": true
   },
   "outputs": [],
   "source": [
    "from torchtext.data.metrics import bleu_score\n",
    "\n",
    "def calculate_bleu_alt(iterator, src_field, trg_field, model, device, max_len = 50):\n",
    "    trgs = []\n",
    "    pred_trgs = []\n",
    "    with torch.no_grad():\n",
    "        for batch in iterator:\n",
    "            src = batch.src\n",
    "            trg = batch.trg\n",
    "            _trgs = []\n",
    "            for sentence in trg:\n",
    "                tmp = []\n",
    "                # Start from the first token which skips the <start> token\n",
    "                for i in sentence[1:]:\n",
    "                    # Targets are padded. So stop appending as soon as a padding or eos token is encountered\n",
    "                    if i == trg_field.vocab.stoi[trg_field.eos_token] or i == trg_field.vocab.stoi[trg_field.pad_token]:\n",
    "                        break\n",
    "                    tmp.append(trg_field.vocab.itos[i])\n",
    "                _trgs.append([tmp])\n",
    "            trgs += _trgs\n",
    "            pred_trg, _ = translate_sentence_vectorized(src, src_field, trg_field, model, device)\n",
    "            pred_trgs += pred_trg\n",
    "    return pred_trgs, trgs, bleu_score(pred_trgs, trgs)\n"
   ]
  },
  {
   "cell_type": "code",
   "execution_count": null,
   "metadata": {
    "scrolled": true
   },
   "outputs": [],
   "source": []
  },
  {
   "cell_type": "code",
   "execution_count": null,
   "metadata": {
    "scrolled": true
   },
   "outputs": [],
   "source": []
  },
  {
   "cell_type": "code",
   "execution_count": null,
   "metadata": {
    "scrolled": true
   },
   "outputs": [],
   "source": []
  },
  {
   "cell_type": "code",
   "execution_count": null,
   "metadata": {
    "scrolled": true
   },
   "outputs": [],
   "source": []
  }
 ],
 "metadata": {
  "colab": {
   "name": "6 - Attention is All You Need.ipynb",
   "provenance": []
  },
  "kernelspec": {
   "display_name": "Python 3",
   "language": "python",
   "name": "python3"
  },
  "language_info": {
   "codemirror_mode": {
    "name": "ipython",
    "version": 3
   },
   "file_extension": ".py",
   "mimetype": "text/x-python",
   "name": "python",
   "nbconvert_exporter": "python",
   "pygments_lexer": "ipython3",
   "version": "3.8.10"
  }
 },
 "nbformat": 4,
 "nbformat_minor": 1
}
